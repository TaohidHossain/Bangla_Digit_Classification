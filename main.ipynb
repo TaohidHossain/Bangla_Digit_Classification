{
 "cells": [
  {
   "cell_type": "markdown",
   "id": "0b8eb01f",
   "metadata": {},
   "source": [
    "# Bangla Digit Classification\n",
    "Dataset provided by MD. Arif"
   ]
  },
  {
   "cell_type": "code",
   "execution_count": 1,
   "id": "81c0281b",
   "metadata": {},
   "outputs": [],
   "source": [
    "import numpy as np\n",
    "import pandas as pd\n",
    "import matplotlib.pyplot as plt\n",
    "%matplotlib inline"
   ]
  },
  {
   "cell_type": "code",
   "execution_count": 2,
   "id": "23186d3e",
   "metadata": {},
   "outputs": [
    {
     "data": {
      "text/html": [
       "<div>\n",
       "<style scoped>\n",
       "    .dataframe tbody tr th:only-of-type {\n",
       "        vertical-align: middle;\n",
       "    }\n",
       "\n",
       "    .dataframe tbody tr th {\n",
       "        vertical-align: top;\n",
       "    }\n",
       "\n",
       "    .dataframe thead th {\n",
       "        text-align: right;\n",
       "    }\n",
       "</style>\n",
       "<table border=\"1\" class=\"dataframe\">\n",
       "  <thead>\n",
       "    <tr style=\"text-align: right;\">\n",
       "      <th></th>\n",
       "      <th>Label</th>\n",
       "      <th>1x1</th>\n",
       "      <th>1x2</th>\n",
       "      <th>1x3</th>\n",
       "      <th>1x4</th>\n",
       "      <th>1x5</th>\n",
       "      <th>1x6</th>\n",
       "      <th>1x7</th>\n",
       "      <th>1x8</th>\n",
       "      <th>1x9</th>\n",
       "      <th>...</th>\n",
       "      <th>28x19</th>\n",
       "      <th>28x20</th>\n",
       "      <th>28x21</th>\n",
       "      <th>28x22</th>\n",
       "      <th>28x23</th>\n",
       "      <th>28x24</th>\n",
       "      <th>28x25</th>\n",
       "      <th>28x26</th>\n",
       "      <th>28x27</th>\n",
       "      <th>28x28</th>\n",
       "    </tr>\n",
       "  </thead>\n",
       "  <tbody>\n",
       "    <tr>\n",
       "      <th>0</th>\n",
       "      <td>8</td>\n",
       "      <td>251</td>\n",
       "      <td>252</td>\n",
       "      <td>1</td>\n",
       "      <td>247</td>\n",
       "      <td>249</td>\n",
       "      <td>254</td>\n",
       "      <td>255</td>\n",
       "      <td>255</td>\n",
       "      <td>255</td>\n",
       "      <td>...</td>\n",
       "      <td>255</td>\n",
       "      <td>255</td>\n",
       "      <td>255</td>\n",
       "      <td>255</td>\n",
       "      <td>255</td>\n",
       "      <td>255</td>\n",
       "      <td>255</td>\n",
       "      <td>255</td>\n",
       "      <td>255</td>\n",
       "      <td>255</td>\n",
       "    </tr>\n",
       "    <tr>\n",
       "      <th>1</th>\n",
       "      <td>2</td>\n",
       "      <td>255</td>\n",
       "      <td>255</td>\n",
       "      <td>255</td>\n",
       "      <td>255</td>\n",
       "      <td>255</td>\n",
       "      <td>255</td>\n",
       "      <td>255</td>\n",
       "      <td>255</td>\n",
       "      <td>255</td>\n",
       "      <td>...</td>\n",
       "      <td>255</td>\n",
       "      <td>252</td>\n",
       "      <td>254</td>\n",
       "      <td>255</td>\n",
       "      <td>254</td>\n",
       "      <td>6</td>\n",
       "      <td>0</td>\n",
       "      <td>239</td>\n",
       "      <td>253</td>\n",
       "      <td>255</td>\n",
       "    </tr>\n",
       "    <tr>\n",
       "      <th>2</th>\n",
       "      <td>9</td>\n",
       "      <td>255</td>\n",
       "      <td>255</td>\n",
       "      <td>255</td>\n",
       "      <td>255</td>\n",
       "      <td>254</td>\n",
       "      <td>255</td>\n",
       "      <td>250</td>\n",
       "      <td>253</td>\n",
       "      <td>253</td>\n",
       "      <td>...</td>\n",
       "      <td>255</td>\n",
       "      <td>255</td>\n",
       "      <td>255</td>\n",
       "      <td>255</td>\n",
       "      <td>255</td>\n",
       "      <td>255</td>\n",
       "      <td>255</td>\n",
       "      <td>255</td>\n",
       "      <td>255</td>\n",
       "      <td>255</td>\n",
       "    </tr>\n",
       "    <tr>\n",
       "      <th>3</th>\n",
       "      <td>0</td>\n",
       "      <td>255</td>\n",
       "      <td>254</td>\n",
       "      <td>255</td>\n",
       "      <td>255</td>\n",
       "      <td>255</td>\n",
       "      <td>255</td>\n",
       "      <td>254</td>\n",
       "      <td>254</td>\n",
       "      <td>254</td>\n",
       "      <td>...</td>\n",
       "      <td>31</td>\n",
       "      <td>244</td>\n",
       "      <td>255</td>\n",
       "      <td>255</td>\n",
       "      <td>255</td>\n",
       "      <td>251</td>\n",
       "      <td>254</td>\n",
       "      <td>254</td>\n",
       "      <td>254</td>\n",
       "      <td>255</td>\n",
       "    </tr>\n",
       "    <tr>\n",
       "      <th>4</th>\n",
       "      <td>0</td>\n",
       "      <td>255</td>\n",
       "      <td>255</td>\n",
       "      <td>255</td>\n",
       "      <td>255</td>\n",
       "      <td>255</td>\n",
       "      <td>254</td>\n",
       "      <td>254</td>\n",
       "      <td>254</td>\n",
       "      <td>255</td>\n",
       "      <td>...</td>\n",
       "      <td>254</td>\n",
       "      <td>253</td>\n",
       "      <td>254</td>\n",
       "      <td>253</td>\n",
       "      <td>253</td>\n",
       "      <td>254</td>\n",
       "      <td>254</td>\n",
       "      <td>254</td>\n",
       "      <td>255</td>\n",
       "      <td>255</td>\n",
       "    </tr>\n",
       "  </tbody>\n",
       "</table>\n",
       "<p>5 rows × 785 columns</p>\n",
       "</div>"
      ],
      "text/plain": [
       "   Label  1x1  1x2  1x3  1x4  1x5  1x6  1x7  1x8  1x9  ...  28x19  28x20  \\\n",
       "0      8  251  252    1  247  249  254  255  255  255  ...    255    255   \n",
       "1      2  255  255  255  255  255  255  255  255  255  ...    255    252   \n",
       "2      9  255  255  255  255  254  255  250  253  253  ...    255    255   \n",
       "3      0  255  254  255  255  255  255  254  254  254  ...     31    244   \n",
       "4      0  255  255  255  255  255  254  254  254  255  ...    254    253   \n",
       "\n",
       "   28x21  28x22  28x23  28x24  28x25  28x26  28x27  28x28  \n",
       "0    255    255    255    255    255    255    255    255  \n",
       "1    254    255    254      6      0    239    253    255  \n",
       "2    255    255    255    255    255    255    255    255  \n",
       "3    255    255    255    251    254    254    254    255  \n",
       "4    254    253    253    254    254    254    255    255  \n",
       "\n",
       "[5 rows x 785 columns]"
      ]
     },
     "execution_count": 2,
     "metadata": {},
     "output_type": "execute_result"
    }
   ],
   "source": [
    "df = pd.read_csv(\"data.csv\")\n",
    "df.head()"
   ]
  },
  {
   "cell_type": "markdown",
   "id": "8bfca42f",
   "metadata": {},
   "source": [
    "1. Create features and target array.\n",
    "2. Scale features array.\n",
    "3. Split dataset in training and test set with ratio of 0.3"
   ]
  },
  {
   "cell_type": "code",
   "execution_count": 3,
   "id": "04bfa439",
   "metadata": {},
   "outputs": [],
   "source": [
    "X = df.drop(\"Label\", axis=1).values\n",
    "y = df[\"Label\"].values"
   ]
  },
  {
   "cell_type": "markdown",
   "id": "7e8186a9",
   "metadata": {},
   "source": [
    "## I'm using two kind of scaling\n",
    "* sklearn.preprocessing.StandardScaler (using variable std_X)\n",
    "* Simply dividing all values by 255. This will make the range of data [0,1]"
   ]
  },
  {
   "cell_type": "code",
   "execution_count": 4,
   "id": "f7fb12e5",
   "metadata": {},
   "outputs": [
    {
     "data": {
      "text/plain": [
       "array([[ -0.11464388,  -0.02393645, -12.80894999, ...,   0.40316392,\n",
       "          0.39639535,   0.33062486],\n",
       "       [  0.11864656,   0.12658178,   0.13324576, ...,   0.19812513,\n",
       "          0.37104972,   0.33062486],\n",
       "       [  0.11864656,   0.12658178,   0.13324576, ...,   0.40316392,\n",
       "          0.39639535,   0.33062486],\n",
       "       ...,\n",
       "       [ -0.05632127,  -0.02393645,   0.13324576, ...,   0.40316392,\n",
       "          0.39639535,   0.33062486],\n",
       "       [  0.11864656,   0.12658178,   0.13324576, ...,   0.37753408,\n",
       "          0.39639535,   0.33062486],\n",
       "       [  0.11864656,   0.12658178,   0.13324576, ...,   0.40316392,\n",
       "          0.39639535,   0.33062486]])"
      ]
     },
     "execution_count": 4,
     "metadata": {},
     "output_type": "execute_result"
    }
   ],
   "source": [
    "from sklearn.preprocessing import StandardScaler\n",
    "sc = StandardScaler()\n",
    "std_X = sc.fit_transform(X)\n",
    "std_X"
   ]
  },
  {
   "cell_type": "code",
   "execution_count": 5,
   "id": "eefcc329",
   "metadata": {},
   "outputs": [
    {
     "data": {
      "text/plain": [
       "array([[0.98431373, 0.98823529, 0.00392157, ..., 1.        , 1.        ,\n",
       "        1.        ],\n",
       "       [1.        , 1.        , 1.        , ..., 0.9372549 , 0.99215686,\n",
       "        1.        ],\n",
       "       [1.        , 1.        , 1.        , ..., 1.        , 1.        ,\n",
       "        1.        ],\n",
       "       ...,\n",
       "       [0.98823529, 0.98823529, 1.        , ..., 1.        , 1.        ,\n",
       "        1.        ],\n",
       "       [1.        , 1.        , 1.        , ..., 0.99215686, 1.        ,\n",
       "        1.        ],\n",
       "       [1.        , 1.        , 1.        , ..., 1.        , 1.        ,\n",
       "        1.        ]])"
      ]
     },
     "execution_count": 5,
     "metadata": {},
     "output_type": "execute_result"
    }
   ],
   "source": [
    "X = X / 255\n",
    "X\n",
    "# try minMaxScaler"
   ]
  },
  {
   "cell_type": "code",
   "execution_count": 6,
   "id": "1a70c92d",
   "metadata": {},
   "outputs": [
    {
     "data": {
      "text/plain": [
       "(0.0, 1.0)"
      ]
     },
     "execution_count": 6,
     "metadata": {},
     "output_type": "execute_result"
    }
   ],
   "source": [
    "X.min(), X.max()"
   ]
  },
  {
   "cell_type": "markdown",
   "id": "9792da9a",
   "metadata": {},
   "source": [
    "## Spliting the dataset using train_test_split"
   ]
  },
  {
   "cell_type": "code",
   "execution_count": 7,
   "id": "8154d625",
   "metadata": {},
   "outputs": [],
   "source": [
    "from sklearn.model_selection import train_test_split\n",
    "X_train, X_test, y_train, y_test = train_test_split(X, y, test_size=0.3, random_state=42)\n",
    "std_X_train, std_X_test, std_y_train, std_y_test = train_test_split(X, y, test_size=0.3, random_state=42)"
   ]
  },
  {
   "cell_type": "markdown",
   "id": "b90bc518",
   "metadata": {},
   "source": [
    "# Stochastic Gradient Descent\n"
   ]
  },
  {
   "cell_type": "code",
   "execution_count": 8,
   "id": "2628a454",
   "metadata": {},
   "outputs": [
    {
     "name": "stdout",
     "output_type": "stream",
     "text": [
      "3897 3897\n"
     ]
    }
   ],
   "source": [
    "from sklearn.linear_model import SGDClassifier\n",
    "sgd_clf_1 = SGDClassifier(random_state=42)\n",
    "sgd_clf_2 = SGDClassifier(random_state=42)\n",
    "\n",
    "sgd_clf_1.fit(X_train, y_train)\n",
    "sgd_clf_2.fit(std_X_train, std_y_train)\n",
    "\n",
    "y_pred = sgd_clf_1.predict(X_test)\n",
    "std_y_pred = sgd_clf_1.predict(std_X_test)\n",
    "\n",
    "n_correct = sum(y_pred == y_test)\n",
    "std_n_correct = sum(std_y_pred == std_y_test)\n",
    "\n",
    "print(n_correct, std_n_correct)"
   ]
  },
  {
   "cell_type": "code",
   "execution_count": 9,
   "id": "3e032e2d",
   "metadata": {},
   "outputs": [
    {
     "name": "stdout",
     "output_type": "stream",
     "text": [
      "0.8316261203585147 0.8316261203585147\n"
     ]
    }
   ],
   "source": [
    "print(n_correct/len(y_pred), std_n_correct/len(std_y_pred))"
   ]
  },
  {
   "cell_type": "markdown",
   "id": "209c6dc2",
   "metadata": {},
   "source": [
    "## Using cross validation and KFold"
   ]
  },
  {
   "cell_type": "code",
   "execution_count": 11,
   "id": "ae4ec98f",
   "metadata": {},
   "outputs": [
    {
     "name": "stdout",
     "output_type": "stream",
     "text": [
      "[0.82062534 0.80526604 0.80186608 0.76838639 0.82327113 0.8079034 ] [0.82062534 0.80526604 0.80186608 0.76838639 0.82327113 0.8079034 ]\n"
     ]
    }
   ],
   "source": [
    "from sklearn.model_selection import cross_val_score, KFold\n",
    "\n",
    "sgd_clf_3 = SGDClassifier(random_state=42)\n",
    "sgd_clf_4 = SGDClassifier(random_state=42)\n",
    "\n",
    "kf = KFold(n_splits=6, shuffle=True, random_state=42)\n",
    "cv_1 = cross_val_score(sgd_clf_3, X_train, y_train, cv=kf)\n",
    "cv_2 = cross_val_score(sgd_clf_4, std_X_train, std_y_train, cv=kf)\n",
    "print(cv_1, cv_2)"
   ]
  },
  {
   "cell_type": "markdown",
   "id": "cd4ee8a9",
   "metadata": {},
   "source": [
    "### StandarScaler and hard coded scaling perform same. We'll use hard coded scaler from now on."
   ]
  },
  {
   "cell_type": "code",
   "execution_count": 13,
   "id": "d0fd226b",
   "metadata": {},
   "outputs": [
    {
     "data": {
      "text/plain": [
       "array([0.82057613, 0.80329218, 0.8183315 ])"
      ]
     },
     "execution_count": 13,
     "metadata": {},
     "output_type": "execute_result"
    }
   ],
   "source": [
    "# Experiment with different n_splits value\n",
    "sgd_clf_5 = SGDClassifier(random_state=42)\n",
    "kf_2 = KFold(n_splits=3, shuffle=True, random_state=42)\n",
    "cv_3 = cross_val_score(sgd_clf_5, X_train, y_train, cv=kf_2)\n",
    "cv_3"
   ]
  },
  {
   "cell_type": "code",
   "execution_count": 14,
   "id": "35d3d3c8",
   "metadata": {},
   "outputs": [
    {
     "data": {
      "text/plain": [
       "array([0.81801555, 0.81115684, 0.80749886, 0.82898948, 0.83760293])"
      ]
     },
     "execution_count": 14,
     "metadata": {},
     "output_type": "execute_result"
    }
   ],
   "source": [
    "kf_3 = KFold(n_splits=5, shuffle=True, random_state=42)\n",
    "cv_4 = cross_val_score(sgd_clf_5, X_train, y_train, cv=kf_3)\n",
    "cv_4"
   ]
  },
  {
   "cell_type": "markdown",
   "id": "9e503af9",
   "metadata": {},
   "source": [
    "## Confusion matrix"
   ]
  },
  {
   "cell_type": "code",
   "execution_count": 15,
   "id": "e035c8c1",
   "metadata": {},
   "outputs": [
    {
     "data": {
      "text/plain": [
       "array([[441,   8,   7,   4,   0,   5,  12,   5,   5,  12],\n",
       "       [  6, 386,   6,   6,   0,   9,   7,   1,   7,  37],\n",
       "       [  7,   5, 424,   3,  10,   7,   6,   4,   6,  10],\n",
       "       [  6,   3,   7, 396,   0,   6,  48,   1,   4,  19],\n",
       "       [  6,   6,   9,   3, 355,  16,   9,   4,   5,   7],\n",
       "       [  6,   5,  13,   7,   5, 356,  63,   7,  10,   8],\n",
       "       [  3,   2,   8,  33,   1,  10, 374,   2,   9,  14],\n",
       "       [  1,   0,  13,   5,   3,  10,   7, 382,   2,  13],\n",
       "       [  5,   1,  10,   3,   2,   5,  12,   0, 422,  10],\n",
       "       [  6,  43,  19,  11,   6,   4,  15,   5,  18, 361]], dtype=int64)"
      ]
     },
     "execution_count": 15,
     "metadata": {},
     "output_type": "execute_result"
    }
   ],
   "source": [
    "from sklearn.metrics import confusion_matrix\n",
    "\n",
    "confusion_matrix(y_test, y_pred) # predictions are from sgd_clf_1"
   ]
  },
  {
   "cell_type": "markdown",
   "id": "29e2d8a1",
   "metadata": {},
   "source": [
    "## Precision and Recall"
   ]
  },
  {
   "cell_type": "code",
   "execution_count": 18,
   "id": "2d813323",
   "metadata": {},
   "outputs": [
    {
     "name": "stdout",
     "output_type": "stream",
     "text": [
      "[0.90554415 0.84095861 0.82170543 0.84076433 0.92931937 0.8317757\n",
      " 0.67631103 0.92944039 0.8647541  0.73523422] [0.88376754 0.83010753 0.87966805 0.80816327 0.8452381  0.74166667\n",
      " 0.82017544 0.87614679 0.89787234 0.7397541 ]\n"
     ]
    }
   ],
   "source": [
    "from sklearn.metrics import precision_score, recall_score\n",
    "\n",
    "precision = precision_score(y_test, y_pred,average=None)\n",
    "recall = recall_score(y_test, y_pred,average=None)\n",
    "\n",
    "print(precision, recall)"
   ]
  },
  {
   "cell_type": "code",
   "execution_count": null,
   "id": "58f673ec",
   "metadata": {},
   "outputs": [],
   "source": []
  }
 ],
 "metadata": {
  "kernelspec": {
   "display_name": "Python 3 (ipykernel)",
   "language": "python",
   "name": "python3"
  },
  "language_info": {
   "codemirror_mode": {
    "name": "ipython",
    "version": 3
   },
   "file_extension": ".py",
   "mimetype": "text/x-python",
   "name": "python",
   "nbconvert_exporter": "python",
   "pygments_lexer": "ipython3",
   "version": "3.11.5"
  }
 },
 "nbformat": 4,
 "nbformat_minor": 5
}
