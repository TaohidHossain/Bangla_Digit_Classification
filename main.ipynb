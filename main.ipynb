{
 "cells": [
  {
   "cell_type": "markdown",
   "id": "0b8eb01f",
   "metadata": {},
   "source": [
    "# Bangla Digit Classification\n",
    "Dataset provided by MD. Arif"
   ]
  },
  {
   "cell_type": "code",
   "execution_count": 1,
   "id": "81c0281b",
   "metadata": {},
   "outputs": [],
   "source": [
    "import numpy as np\n",
    "import pandas as pd\n",
    "import matplotlib.pyplot as plt\n",
    "%matplotlib inline"
   ]
  },
  {
   "cell_type": "code",
   "execution_count": 2,
   "id": "23186d3e",
   "metadata": {},
   "outputs": [
    {
     "data": {
      "text/html": [
       "<div>\n",
       "<style scoped>\n",
       "    .dataframe tbody tr th:only-of-type {\n",
       "        vertical-align: middle;\n",
       "    }\n",
       "\n",
       "    .dataframe tbody tr th {\n",
       "        vertical-align: top;\n",
       "    }\n",
       "\n",
       "    .dataframe thead th {\n",
       "        text-align: right;\n",
       "    }\n",
       "</style>\n",
       "<table border=\"1\" class=\"dataframe\">\n",
       "  <thead>\n",
       "    <tr style=\"text-align: right;\">\n",
       "      <th></th>\n",
       "      <th>Label</th>\n",
       "      <th>1x1</th>\n",
       "      <th>1x2</th>\n",
       "      <th>1x3</th>\n",
       "      <th>1x4</th>\n",
       "      <th>1x5</th>\n",
       "      <th>1x6</th>\n",
       "      <th>1x7</th>\n",
       "      <th>1x8</th>\n",
       "      <th>1x9</th>\n",
       "      <th>...</th>\n",
       "      <th>28x19</th>\n",
       "      <th>28x20</th>\n",
       "      <th>28x21</th>\n",
       "      <th>28x22</th>\n",
       "      <th>28x23</th>\n",
       "      <th>28x24</th>\n",
       "      <th>28x25</th>\n",
       "      <th>28x26</th>\n",
       "      <th>28x27</th>\n",
       "      <th>28x28</th>\n",
       "    </tr>\n",
       "  </thead>\n",
       "  <tbody>\n",
       "    <tr>\n",
       "      <th>0</th>\n",
       "      <td>8</td>\n",
       "      <td>251</td>\n",
       "      <td>252</td>\n",
       "      <td>1</td>\n",
       "      <td>247</td>\n",
       "      <td>249</td>\n",
       "      <td>254</td>\n",
       "      <td>255</td>\n",
       "      <td>255</td>\n",
       "      <td>255</td>\n",
       "      <td>...</td>\n",
       "      <td>255</td>\n",
       "      <td>255</td>\n",
       "      <td>255</td>\n",
       "      <td>255</td>\n",
       "      <td>255</td>\n",
       "      <td>255</td>\n",
       "      <td>255</td>\n",
       "      <td>255</td>\n",
       "      <td>255</td>\n",
       "      <td>255</td>\n",
       "    </tr>\n",
       "    <tr>\n",
       "      <th>1</th>\n",
       "      <td>2</td>\n",
       "      <td>255</td>\n",
       "      <td>255</td>\n",
       "      <td>255</td>\n",
       "      <td>255</td>\n",
       "      <td>255</td>\n",
       "      <td>255</td>\n",
       "      <td>255</td>\n",
       "      <td>255</td>\n",
       "      <td>255</td>\n",
       "      <td>...</td>\n",
       "      <td>255</td>\n",
       "      <td>252</td>\n",
       "      <td>254</td>\n",
       "      <td>255</td>\n",
       "      <td>254</td>\n",
       "      <td>6</td>\n",
       "      <td>0</td>\n",
       "      <td>239</td>\n",
       "      <td>253</td>\n",
       "      <td>255</td>\n",
       "    </tr>\n",
       "    <tr>\n",
       "      <th>2</th>\n",
       "      <td>9</td>\n",
       "      <td>255</td>\n",
       "      <td>255</td>\n",
       "      <td>255</td>\n",
       "      <td>255</td>\n",
       "      <td>254</td>\n",
       "      <td>255</td>\n",
       "      <td>250</td>\n",
       "      <td>253</td>\n",
       "      <td>253</td>\n",
       "      <td>...</td>\n",
       "      <td>255</td>\n",
       "      <td>255</td>\n",
       "      <td>255</td>\n",
       "      <td>255</td>\n",
       "      <td>255</td>\n",
       "      <td>255</td>\n",
       "      <td>255</td>\n",
       "      <td>255</td>\n",
       "      <td>255</td>\n",
       "      <td>255</td>\n",
       "    </tr>\n",
       "    <tr>\n",
       "      <th>3</th>\n",
       "      <td>0</td>\n",
       "      <td>255</td>\n",
       "      <td>254</td>\n",
       "      <td>255</td>\n",
       "      <td>255</td>\n",
       "      <td>255</td>\n",
       "      <td>255</td>\n",
       "      <td>254</td>\n",
       "      <td>254</td>\n",
       "      <td>254</td>\n",
       "      <td>...</td>\n",
       "      <td>31</td>\n",
       "      <td>244</td>\n",
       "      <td>255</td>\n",
       "      <td>255</td>\n",
       "      <td>255</td>\n",
       "      <td>251</td>\n",
       "      <td>254</td>\n",
       "      <td>254</td>\n",
       "      <td>254</td>\n",
       "      <td>255</td>\n",
       "    </tr>\n",
       "    <tr>\n",
       "      <th>4</th>\n",
       "      <td>0</td>\n",
       "      <td>255</td>\n",
       "      <td>255</td>\n",
       "      <td>255</td>\n",
       "      <td>255</td>\n",
       "      <td>255</td>\n",
       "      <td>254</td>\n",
       "      <td>254</td>\n",
       "      <td>254</td>\n",
       "      <td>255</td>\n",
       "      <td>...</td>\n",
       "      <td>254</td>\n",
       "      <td>253</td>\n",
       "      <td>254</td>\n",
       "      <td>253</td>\n",
       "      <td>253</td>\n",
       "      <td>254</td>\n",
       "      <td>254</td>\n",
       "      <td>254</td>\n",
       "      <td>255</td>\n",
       "      <td>255</td>\n",
       "    </tr>\n",
       "  </tbody>\n",
       "</table>\n",
       "<p>5 rows × 785 columns</p>\n",
       "</div>"
      ],
      "text/plain": [
       "   Label  1x1  1x2  1x3  1x4  1x5  1x6  1x7  1x8  1x9  ...  28x19  28x20  \\\n",
       "0      8  251  252    1  247  249  254  255  255  255  ...    255    255   \n",
       "1      2  255  255  255  255  255  255  255  255  255  ...    255    252   \n",
       "2      9  255  255  255  255  254  255  250  253  253  ...    255    255   \n",
       "3      0  255  254  255  255  255  255  254  254  254  ...     31    244   \n",
       "4      0  255  255  255  255  255  254  254  254  255  ...    254    253   \n",
       "\n",
       "   28x21  28x22  28x23  28x24  28x25  28x26  28x27  28x28  \n",
       "0    255    255    255    255    255    255    255    255  \n",
       "1    254    255    254      6      0    239    253    255  \n",
       "2    255    255    255    255    255    255    255    255  \n",
       "3    255    255    255    251    254    254    254    255  \n",
       "4    254    253    253    254    254    254    255    255  \n",
       "\n",
       "[5 rows x 785 columns]"
      ]
     },
     "execution_count": 2,
     "metadata": {},
     "output_type": "execute_result"
    }
   ],
   "source": [
    "df = pd.read_csv(\"data.csv\")\n",
    "df.head()"
   ]
  },
  {
   "cell_type": "markdown",
   "id": "8bfca42f",
   "metadata": {},
   "source": [
    "1. Create features and target array.\n",
    "2. Scale features array.\n",
    "3. Split dataset in training and test set with ratio of 0.3"
   ]
  },
  {
   "cell_type": "code",
   "execution_count": 3,
   "id": "04bfa439",
   "metadata": {},
   "outputs": [],
   "source": [
    "X = df.drop(\"Label\", axis=1).values\n",
    "y = df[\"Label\"].values"
   ]
  },
  {
   "cell_type": "markdown",
   "id": "7e8186a9",
   "metadata": {},
   "source": [
    "## I'm using two kind of scaling\n",
    "* sklearn.preprocessing.StandardScaler (using variable std_X)\n",
    "* Simply dividing all values by 255. This will make the range of data [0,1]"
   ]
  },
  {
   "cell_type": "code",
   "execution_count": 4,
   "id": "f7fb12e5",
   "metadata": {},
   "outputs": [
    {
     "data": {
      "text/plain": [
       "array([[ -0.11464388,  -0.02393645, -12.80894999, ...,   0.40316392,\n",
       "          0.39639535,   0.33062486],\n",
       "       [  0.11864656,   0.12658178,   0.13324576, ...,   0.19812513,\n",
       "          0.37104972,   0.33062486],\n",
       "       [  0.11864656,   0.12658178,   0.13324576, ...,   0.40316392,\n",
       "          0.39639535,   0.33062486],\n",
       "       ...,\n",
       "       [ -0.05632127,  -0.02393645,   0.13324576, ...,   0.40316392,\n",
       "          0.39639535,   0.33062486],\n",
       "       [  0.11864656,   0.12658178,   0.13324576, ...,   0.37753408,\n",
       "          0.39639535,   0.33062486],\n",
       "       [  0.11864656,   0.12658178,   0.13324576, ...,   0.40316392,\n",
       "          0.39639535,   0.33062486]])"
      ]
     },
     "execution_count": 4,
     "metadata": {},
     "output_type": "execute_result"
    }
   ],
   "source": [
    "from sklearn.preprocessing import StandardScaler\n",
    "sc = StandardScaler()\n",
    "std_X = sc.fit_transform(X)\n",
    "std_X"
   ]
  },
  {
   "cell_type": "code",
   "execution_count": 5,
   "id": "eefcc329",
   "metadata": {},
   "outputs": [
    {
     "data": {
      "text/plain": [
       "(0.0, 1.0)"
      ]
     },
     "execution_count": 5,
     "metadata": {},
     "output_type": "execute_result"
    }
   ],
   "source": [
    "from sklearn.preprocessing import MinMaxScaler\n",
    "mnmxSc = MinMaxScaler()\n",
    "X = mnmxSc.fit_transform(X)\n",
    "X.min(), X.max()"
   ]
  },
  {
   "cell_type": "markdown",
   "id": "9792da9a",
   "metadata": {},
   "source": [
    "## Spliting the dataset using train_test_split"
   ]
  },
  {
   "cell_type": "code",
   "execution_count": 6,
   "id": "8154d625",
   "metadata": {},
   "outputs": [],
   "source": [
    "from sklearn.model_selection import train_test_split\n",
    "X_train, X_test, y_train, y_test = train_test_split(X, y, test_size=0.3, random_state=42)\n",
    "std_X_train, std_X_test, std_y_train, std_y_test = train_test_split(std_X, y, test_size=0.3, random_state=42)"
   ]
  },
  {
   "cell_type": "markdown",
   "id": "b90bc518",
   "metadata": {},
   "source": [
    "# Stochastic Gradient Descent\n"
   ]
  },
  {
   "cell_type": "code",
   "execution_count": 7,
   "id": "2628a454",
   "metadata": {},
   "outputs": [
    {
     "name": "stderr",
     "output_type": "stream",
     "text": [
      "C:\\Users\\User\\anaconda3\\Lib\\site-packages\\sklearn\\linear_model\\_stochastic_gradient.py:713: ConvergenceWarning: Maximum number of iteration reached before convergence. Consider increasing max_iter to improve the fit.\n",
      "  warnings.warn(\n"
     ]
    },
    {
     "name": "stdout",
     "output_type": "stream",
     "text": [
      "3897 3152\n",
      "\n",
      "\n",
      "0.8316261203585147 0.6726419120785317\n"
     ]
    }
   ],
   "source": [
    "from sklearn.linear_model import SGDClassifier\n",
    "sgd_clf_1 = SGDClassifier(random_state=42)\n",
    "sgd_clf_2 = SGDClassifier(random_state=42)\n",
    "\n",
    "sgd_clf_1.fit(X_train, y_train)\n",
    "sgd_clf_2.fit(std_X_train, std_y_train)\n",
    "\n",
    "y_pred = sgd_clf_1.predict(X_test)\n",
    "std_y_pred = sgd_clf_1.predict(std_X_test)\n",
    "\n",
    "n_correct = sum(y_pred == y_test)\n",
    "std_n_correct = sum(std_y_pred == std_y_test)\n",
    "\n",
    "print(n_correct, std_n_correct)\n",
    "print(\"\\n\")\n",
    "print(n_correct/len(y_pred), std_n_correct/len(std_y_pred))"
   ]
  },
  {
   "cell_type": "code",
   "execution_count": 9,
   "id": "b6cebbff",
   "metadata": {},
   "outputs": [
    {
     "data": {
      "text/html": [
       "<style>#sk-container-id-1 {color: black;}#sk-container-id-1 pre{padding: 0;}#sk-container-id-1 div.sk-toggleable {background-color: white;}#sk-container-id-1 label.sk-toggleable__label {cursor: pointer;display: block;width: 100%;margin-bottom: 0;padding: 0.3em;box-sizing: border-box;text-align: center;}#sk-container-id-1 label.sk-toggleable__label-arrow:before {content: \"▸\";float: left;margin-right: 0.25em;color: #696969;}#sk-container-id-1 label.sk-toggleable__label-arrow:hover:before {color: black;}#sk-container-id-1 div.sk-estimator:hover label.sk-toggleable__label-arrow:before {color: black;}#sk-container-id-1 div.sk-toggleable__content {max-height: 0;max-width: 0;overflow: hidden;text-align: left;background-color: #f0f8ff;}#sk-container-id-1 div.sk-toggleable__content pre {margin: 0.2em;color: black;border-radius: 0.25em;background-color: #f0f8ff;}#sk-container-id-1 input.sk-toggleable__control:checked~div.sk-toggleable__content {max-height: 200px;max-width: 100%;overflow: auto;}#sk-container-id-1 input.sk-toggleable__control:checked~label.sk-toggleable__label-arrow:before {content: \"▾\";}#sk-container-id-1 div.sk-estimator input.sk-toggleable__control:checked~label.sk-toggleable__label {background-color: #d4ebff;}#sk-container-id-1 div.sk-label input.sk-toggleable__control:checked~label.sk-toggleable__label {background-color: #d4ebff;}#sk-container-id-1 input.sk-hidden--visually {border: 0;clip: rect(1px 1px 1px 1px);clip: rect(1px, 1px, 1px, 1px);height: 1px;margin: -1px;overflow: hidden;padding: 0;position: absolute;width: 1px;}#sk-container-id-1 div.sk-estimator {font-family: monospace;background-color: #f0f8ff;border: 1px dotted black;border-radius: 0.25em;box-sizing: border-box;margin-bottom: 0.5em;}#sk-container-id-1 div.sk-estimator:hover {background-color: #d4ebff;}#sk-container-id-1 div.sk-parallel-item::after {content: \"\";width: 100%;border-bottom: 1px solid gray;flex-grow: 1;}#sk-container-id-1 div.sk-label:hover label.sk-toggleable__label {background-color: #d4ebff;}#sk-container-id-1 div.sk-serial::before {content: \"\";position: absolute;border-left: 1px solid gray;box-sizing: border-box;top: 0;bottom: 0;left: 50%;z-index: 0;}#sk-container-id-1 div.sk-serial {display: flex;flex-direction: column;align-items: center;background-color: white;padding-right: 0.2em;padding-left: 0.2em;position: relative;}#sk-container-id-1 div.sk-item {position: relative;z-index: 1;}#sk-container-id-1 div.sk-parallel {display: flex;align-items: stretch;justify-content: center;background-color: white;position: relative;}#sk-container-id-1 div.sk-item::before, #sk-container-id-1 div.sk-parallel-item::before {content: \"\";position: absolute;border-left: 1px solid gray;box-sizing: border-box;top: 0;bottom: 0;left: 50%;z-index: -1;}#sk-container-id-1 div.sk-parallel-item {display: flex;flex-direction: column;z-index: 1;position: relative;background-color: white;}#sk-container-id-1 div.sk-parallel-item:first-child::after {align-self: flex-end;width: 50%;}#sk-container-id-1 div.sk-parallel-item:last-child::after {align-self: flex-start;width: 50%;}#sk-container-id-1 div.sk-parallel-item:only-child::after {width: 0;}#sk-container-id-1 div.sk-dashed-wrapped {border: 1px dashed gray;margin: 0 0.4em 0.5em 0.4em;box-sizing: border-box;padding-bottom: 0.4em;background-color: white;}#sk-container-id-1 div.sk-label label {font-family: monospace;font-weight: bold;display: inline-block;line-height: 1.2em;}#sk-container-id-1 div.sk-label-container {text-align: center;}#sk-container-id-1 div.sk-container {/* jupyter's `normalize.less` sets `[hidden] { display: none; }` but bootstrap.min.css set `[hidden] { display: none !important; }` so we also need the `!important` here to be able to override the default hidden behavior on the sphinx rendered scikit-learn.org. See: https://github.com/scikit-learn/scikit-learn/issues/21755 */display: inline-block !important;position: relative;}#sk-container-id-1 div.sk-text-repr-fallback {display: none;}</style><div id=\"sk-container-id-1\" class=\"sk-top-container\"><div class=\"sk-text-repr-fallback\"><pre>SGDClassifier(max_iter=5000, random_state=42)</pre><b>In a Jupyter environment, please rerun this cell to show the HTML representation or trust the notebook. <br />On GitHub, the HTML representation is unable to render, please try loading this page with nbviewer.org.</b></div><div class=\"sk-container\" hidden><div class=\"sk-item\"><div class=\"sk-estimator sk-toggleable\"><input class=\"sk-toggleable__control sk-hidden--visually\" id=\"sk-estimator-id-1\" type=\"checkbox\" checked><label for=\"sk-estimator-id-1\" class=\"sk-toggleable__label sk-toggleable__label-arrow\">SGDClassifier</label><div class=\"sk-toggleable__content\"><pre>SGDClassifier(max_iter=5000, random_state=42)</pre></div></div></div></div></div>"
      ],
      "text/plain": [
       "SGDClassifier(max_iter=5000, random_state=42)"
      ]
     },
     "execution_count": 9,
     "metadata": {},
     "output_type": "execute_result"
    }
   ],
   "source": [
    "sgd_clf_dummy = SGDClassifier(max_iter= 5000, random_state=42)\n",
    "sgd_clf_dummy.fit(std_X_train, std_y_train)"
   ]
  },
  {
   "cell_type": "code",
   "execution_count": 10,
   "id": "a0ee4d34",
   "metadata": {},
   "outputs": [
    {
     "data": {
      "text/plain": [
       "0.8444302176696543"
      ]
     },
     "execution_count": 10,
     "metadata": {},
     "output_type": "execute_result"
    }
   ],
   "source": [
    "sgd_clf_dummy.score(std_X_test, std_y_test)"
   ]
  },
  {
   "cell_type": "code",
   "execution_count": 11,
   "id": "0d5ef302",
   "metadata": {},
   "outputs": [
    {
     "data": {
      "text/plain": [
       "0.8489116517285531"
      ]
     },
     "execution_count": 11,
     "metadata": {},
     "output_type": "execute_result"
    }
   ],
   "source": [
    "SGDClassifier(max_iter= 5000, alpha=0.1, random_state=42).fit(std_X_train, std_y_train).score(std_X_test, std_y_test)"
   ]
  },
  {
   "cell_type": "markdown",
   "id": "05162cc3",
   "metadata": {},
   "source": [
    "# Perform Grid Search on SGDClassifier"
   ]
  },
  {
   "cell_type": "code",
   "execution_count": 7,
   "id": "c1bff61e",
   "metadata": {},
   "outputs": [],
   "source": [
    "from sklearn.model_selection import GridSearchCV"
   ]
  },
  {
   "cell_type": "code",
   "execution_count": 15,
   "id": "e5f81652",
   "metadata": {},
   "outputs": [],
   "source": [
    "param_grid = [\n",
    "    {'max_iter': [2000, 5000, 10000],\n",
    "    'alpha': [ 0.0001, 0.01, 1.0, 10, 100]\n",
    "    }\n",
    "]\n",
    "\n",
    "grid_search = GridSearchCV(SGDClassifier(), param_grid, cv=5, scoring=\"accuracy\", return_train_score=True)"
   ]
  },
  {
   "cell_type": "code",
   "execution_count": 16,
   "id": "d1c9560e",
   "metadata": {},
   "outputs": [
    {
     "data": {
      "text/html": [
       "<style>#sk-container-id-3 {color: black;}#sk-container-id-3 pre{padding: 0;}#sk-container-id-3 div.sk-toggleable {background-color: white;}#sk-container-id-3 label.sk-toggleable__label {cursor: pointer;display: block;width: 100%;margin-bottom: 0;padding: 0.3em;box-sizing: border-box;text-align: center;}#sk-container-id-3 label.sk-toggleable__label-arrow:before {content: \"▸\";float: left;margin-right: 0.25em;color: #696969;}#sk-container-id-3 label.sk-toggleable__label-arrow:hover:before {color: black;}#sk-container-id-3 div.sk-estimator:hover label.sk-toggleable__label-arrow:before {color: black;}#sk-container-id-3 div.sk-toggleable__content {max-height: 0;max-width: 0;overflow: hidden;text-align: left;background-color: #f0f8ff;}#sk-container-id-3 div.sk-toggleable__content pre {margin: 0.2em;color: black;border-radius: 0.25em;background-color: #f0f8ff;}#sk-container-id-3 input.sk-toggleable__control:checked~div.sk-toggleable__content {max-height: 200px;max-width: 100%;overflow: auto;}#sk-container-id-3 input.sk-toggleable__control:checked~label.sk-toggleable__label-arrow:before {content: \"▾\";}#sk-container-id-3 div.sk-estimator input.sk-toggleable__control:checked~label.sk-toggleable__label {background-color: #d4ebff;}#sk-container-id-3 div.sk-label input.sk-toggleable__control:checked~label.sk-toggleable__label {background-color: #d4ebff;}#sk-container-id-3 input.sk-hidden--visually {border: 0;clip: rect(1px 1px 1px 1px);clip: rect(1px, 1px, 1px, 1px);height: 1px;margin: -1px;overflow: hidden;padding: 0;position: absolute;width: 1px;}#sk-container-id-3 div.sk-estimator {font-family: monospace;background-color: #f0f8ff;border: 1px dotted black;border-radius: 0.25em;box-sizing: border-box;margin-bottom: 0.5em;}#sk-container-id-3 div.sk-estimator:hover {background-color: #d4ebff;}#sk-container-id-3 div.sk-parallel-item::after {content: \"\";width: 100%;border-bottom: 1px solid gray;flex-grow: 1;}#sk-container-id-3 div.sk-label:hover label.sk-toggleable__label {background-color: #d4ebff;}#sk-container-id-3 div.sk-serial::before {content: \"\";position: absolute;border-left: 1px solid gray;box-sizing: border-box;top: 0;bottom: 0;left: 50%;z-index: 0;}#sk-container-id-3 div.sk-serial {display: flex;flex-direction: column;align-items: center;background-color: white;padding-right: 0.2em;padding-left: 0.2em;position: relative;}#sk-container-id-3 div.sk-item {position: relative;z-index: 1;}#sk-container-id-3 div.sk-parallel {display: flex;align-items: stretch;justify-content: center;background-color: white;position: relative;}#sk-container-id-3 div.sk-item::before, #sk-container-id-3 div.sk-parallel-item::before {content: \"\";position: absolute;border-left: 1px solid gray;box-sizing: border-box;top: 0;bottom: 0;left: 50%;z-index: -1;}#sk-container-id-3 div.sk-parallel-item {display: flex;flex-direction: column;z-index: 1;position: relative;background-color: white;}#sk-container-id-3 div.sk-parallel-item:first-child::after {align-self: flex-end;width: 50%;}#sk-container-id-3 div.sk-parallel-item:last-child::after {align-self: flex-start;width: 50%;}#sk-container-id-3 div.sk-parallel-item:only-child::after {width: 0;}#sk-container-id-3 div.sk-dashed-wrapped {border: 1px dashed gray;margin: 0 0.4em 0.5em 0.4em;box-sizing: border-box;padding-bottom: 0.4em;background-color: white;}#sk-container-id-3 div.sk-label label {font-family: monospace;font-weight: bold;display: inline-block;line-height: 1.2em;}#sk-container-id-3 div.sk-label-container {text-align: center;}#sk-container-id-3 div.sk-container {/* jupyter's `normalize.less` sets `[hidden] { display: none; }` but bootstrap.min.css set `[hidden] { display: none !important; }` so we also need the `!important` here to be able to override the default hidden behavior on the sphinx rendered scikit-learn.org. See: https://github.com/scikit-learn/scikit-learn/issues/21755 */display: inline-block !important;position: relative;}#sk-container-id-3 div.sk-text-repr-fallback {display: none;}</style><div id=\"sk-container-id-3\" class=\"sk-top-container\"><div class=\"sk-text-repr-fallback\"><pre>GridSearchCV(cv=5, estimator=SGDClassifier(),\n",
       "             param_grid=[{&#x27;alpha&#x27;: [0.0001, 0.01, 1.0, 10, 100],\n",
       "                          &#x27;max_iter&#x27;: [2000, 5000, 10000]}],\n",
       "             return_train_score=True, scoring=&#x27;accuracy&#x27;)</pre><b>In a Jupyter environment, please rerun this cell to show the HTML representation or trust the notebook. <br />On GitHub, the HTML representation is unable to render, please try loading this page with nbviewer.org.</b></div><div class=\"sk-container\" hidden><div class=\"sk-item sk-dashed-wrapped\"><div class=\"sk-label-container\"><div class=\"sk-label sk-toggleable\"><input class=\"sk-toggleable__control sk-hidden--visually\" id=\"sk-estimator-id-5\" type=\"checkbox\" ><label for=\"sk-estimator-id-5\" class=\"sk-toggleable__label sk-toggleable__label-arrow\">GridSearchCV</label><div class=\"sk-toggleable__content\"><pre>GridSearchCV(cv=5, estimator=SGDClassifier(),\n",
       "             param_grid=[{&#x27;alpha&#x27;: [0.0001, 0.01, 1.0, 10, 100],\n",
       "                          &#x27;max_iter&#x27;: [2000, 5000, 10000]}],\n",
       "             return_train_score=True, scoring=&#x27;accuracy&#x27;)</pre></div></div></div><div class=\"sk-parallel\"><div class=\"sk-parallel-item\"><div class=\"sk-item\"><div class=\"sk-label-container\"><div class=\"sk-label sk-toggleable\"><input class=\"sk-toggleable__control sk-hidden--visually\" id=\"sk-estimator-id-6\" type=\"checkbox\" ><label for=\"sk-estimator-id-6\" class=\"sk-toggleable__label sk-toggleable__label-arrow\">estimator: SGDClassifier</label><div class=\"sk-toggleable__content\"><pre>SGDClassifier()</pre></div></div></div><div class=\"sk-serial\"><div class=\"sk-item\"><div class=\"sk-estimator sk-toggleable\"><input class=\"sk-toggleable__control sk-hidden--visually\" id=\"sk-estimator-id-7\" type=\"checkbox\" ><label for=\"sk-estimator-id-7\" class=\"sk-toggleable__label sk-toggleable__label-arrow\">SGDClassifier</label><div class=\"sk-toggleable__content\"><pre>SGDClassifier()</pre></div></div></div></div></div></div></div></div></div></div>"
      ],
      "text/plain": [
       "GridSearchCV(cv=5, estimator=SGDClassifier(),\n",
       "             param_grid=[{'alpha': [0.0001, 0.01, 1.0, 10, 100],\n",
       "                          'max_iter': [2000, 5000, 10000]}],\n",
       "             return_train_score=True, scoring='accuracy')"
      ]
     },
     "execution_count": 16,
     "metadata": {},
     "output_type": "execute_result"
    }
   ],
   "source": [
    "grid_search.fit(std_X, y)"
   ]
  },
  {
   "cell_type": "code",
   "execution_count": 17,
   "id": "99af384c",
   "metadata": {},
   "outputs": [
    {
     "data": {
      "text/plain": [
       "(SGDClassifier(alpha=0.01, max_iter=2000), 0.8486555697823304)"
      ]
     },
     "execution_count": 17,
     "metadata": {},
     "output_type": "execute_result"
    }
   ],
   "source": [
    "grid_search.best_estimator_, grid_search.best_score_ "
   ]
  },
  {
   "cell_type": "code",
   "execution_count": 21,
   "id": "065ce1e0",
   "metadata": {},
   "outputs": [
    {
     "data": {
      "text/html": [
       "<div>\n",
       "<style scoped>\n",
       "    .dataframe tbody tr th:only-of-type {\n",
       "        vertical-align: middle;\n",
       "    }\n",
       "\n",
       "    .dataframe tbody tr th {\n",
       "        vertical-align: top;\n",
       "    }\n",
       "\n",
       "    .dataframe thead th {\n",
       "        text-align: right;\n",
       "    }\n",
       "</style>\n",
       "<table border=\"1\" class=\"dataframe\">\n",
       "  <thead>\n",
       "    <tr style=\"text-align: right;\">\n",
       "      <th></th>\n",
       "      <th>mean_fit_time</th>\n",
       "      <th>std_fit_time</th>\n",
       "      <th>mean_score_time</th>\n",
       "      <th>std_score_time</th>\n",
       "      <th>param_alpha</th>\n",
       "      <th>param_max_iter</th>\n",
       "      <th>params</th>\n",
       "      <th>split0_test_score</th>\n",
       "      <th>split1_test_score</th>\n",
       "      <th>split2_test_score</th>\n",
       "      <th>...</th>\n",
       "      <th>mean_test_score</th>\n",
       "      <th>std_test_score</th>\n",
       "      <th>rank_test_score</th>\n",
       "      <th>split0_train_score</th>\n",
       "      <th>split1_train_score</th>\n",
       "      <th>split2_train_score</th>\n",
       "      <th>split3_train_score</th>\n",
       "      <th>split4_train_score</th>\n",
       "      <th>mean_train_score</th>\n",
       "      <th>std_train_score</th>\n",
       "    </tr>\n",
       "  </thead>\n",
       "  <tbody>\n",
       "    <tr>\n",
       "      <th>0</th>\n",
       "      <td>50.671915</td>\n",
       "      <td>2.690581</td>\n",
       "      <td>0.003804</td>\n",
       "      <td>4.004004e-04</td>\n",
       "      <td>0.0001</td>\n",
       "      <td>2000</td>\n",
       "      <td>{'alpha': 0.0001, 'max_iter': 2000}</td>\n",
       "      <td>0.842830</td>\n",
       "      <td>0.848592</td>\n",
       "      <td>0.855314</td>\n",
       "      <td>...</td>\n",
       "      <td>0.842958</td>\n",
       "      <td>0.008471</td>\n",
       "      <td>4</td>\n",
       "      <td>0.891325</td>\n",
       "      <td>0.891085</td>\n",
       "      <td>0.887084</td>\n",
       "      <td>0.890685</td>\n",
       "      <td>0.892846</td>\n",
       "      <td>0.890605</td>\n",
       "      <td>0.001907</td>\n",
       "    </tr>\n",
       "    <tr>\n",
       "      <th>1</th>\n",
       "      <td>50.142036</td>\n",
       "      <td>1.507003</td>\n",
       "      <td>0.003804</td>\n",
       "      <td>4.002096e-04</td>\n",
       "      <td>0.0001</td>\n",
       "      <td>5000</td>\n",
       "      <td>{'alpha': 0.0001, 'max_iter': 5000}</td>\n",
       "      <td>0.842190</td>\n",
       "      <td>0.847311</td>\n",
       "      <td>0.854994</td>\n",
       "      <td>...</td>\n",
       "      <td>0.842446</td>\n",
       "      <td>0.008195</td>\n",
       "      <td>5</td>\n",
       "      <td>0.891485</td>\n",
       "      <td>0.890125</td>\n",
       "      <td>0.887404</td>\n",
       "      <td>0.891165</td>\n",
       "      <td>0.893406</td>\n",
       "      <td>0.890717</td>\n",
       "      <td>0.001967</td>\n",
       "    </tr>\n",
       "    <tr>\n",
       "      <th>2</th>\n",
       "      <td>51.846342</td>\n",
       "      <td>1.931006</td>\n",
       "      <td>0.003804</td>\n",
       "      <td>4.001617e-04</td>\n",
       "      <td>0.0001</td>\n",
       "      <td>10000</td>\n",
       "      <td>{'alpha': 0.0001, 'max_iter': 10000}</td>\n",
       "      <td>0.842190</td>\n",
       "      <td>0.847631</td>\n",
       "      <td>0.854673</td>\n",
       "      <td>...</td>\n",
       "      <td>0.842254</td>\n",
       "      <td>0.008390</td>\n",
       "      <td>6</td>\n",
       "      <td>0.892125</td>\n",
       "      <td>0.889725</td>\n",
       "      <td>0.887324</td>\n",
       "      <td>0.891245</td>\n",
       "      <td>0.892686</td>\n",
       "      <td>0.890621</td>\n",
       "      <td>0.001928</td>\n",
       "    </tr>\n",
       "    <tr>\n",
       "      <th>3</th>\n",
       "      <td>3.779764</td>\n",
       "      <td>0.190630</td>\n",
       "      <td>0.004004</td>\n",
       "      <td>9.536743e-08</td>\n",
       "      <td>0.01</td>\n",
       "      <td>2000</td>\n",
       "      <td>{'alpha': 0.01, 'max_iter': 2000}</td>\n",
       "      <td>0.844750</td>\n",
       "      <td>0.852753</td>\n",
       "      <td>0.864917</td>\n",
       "      <td>...</td>\n",
       "      <td>0.848656</td>\n",
       "      <td>0.010350</td>\n",
       "      <td>1</td>\n",
       "      <td>0.864997</td>\n",
       "      <td>0.860435</td>\n",
       "      <td>0.858435</td>\n",
       "      <td>0.860595</td>\n",
       "      <td>0.864757</td>\n",
       "      <td>0.861844</td>\n",
       "      <td>0.002592</td>\n",
       "    </tr>\n",
       "    <tr>\n",
       "      <th>4</th>\n",
       "      <td>3.620546</td>\n",
       "      <td>0.219875</td>\n",
       "      <td>0.004004</td>\n",
       "      <td>1.784161e-07</td>\n",
       "      <td>0.01</td>\n",
       "      <td>5000</td>\n",
       "      <td>{'alpha': 0.01, 'max_iter': 5000}</td>\n",
       "      <td>0.843470</td>\n",
       "      <td>0.851793</td>\n",
       "      <td>0.863636</td>\n",
       "      <td>...</td>\n",
       "      <td>0.847823</td>\n",
       "      <td>0.010364</td>\n",
       "      <td>2</td>\n",
       "      <td>0.864197</td>\n",
       "      <td>0.859235</td>\n",
       "      <td>0.858595</td>\n",
       "      <td>0.862756</td>\n",
       "      <td>0.866677</td>\n",
       "      <td>0.862292</td>\n",
       "      <td>0.003036</td>\n",
       "    </tr>\n",
       "    <tr>\n",
       "      <th>5</th>\n",
       "      <td>3.932798</td>\n",
       "      <td>0.212396</td>\n",
       "      <td>0.004203</td>\n",
       "      <td>4.002333e-04</td>\n",
       "      <td>0.01</td>\n",
       "      <td>10000</td>\n",
       "      <td>{'alpha': 0.01, 'max_iter': 10000}</td>\n",
       "      <td>0.842510</td>\n",
       "      <td>0.852753</td>\n",
       "      <td>0.861396</td>\n",
       "      <td>...</td>\n",
       "      <td>0.847055</td>\n",
       "      <td>0.009777</td>\n",
       "      <td>3</td>\n",
       "      <td>0.865077</td>\n",
       "      <td>0.860115</td>\n",
       "      <td>0.857794</td>\n",
       "      <td>0.860355</td>\n",
       "      <td>0.865077</td>\n",
       "      <td>0.861684</td>\n",
       "      <td>0.002911</td>\n",
       "    </tr>\n",
       "    <tr>\n",
       "      <th>6</th>\n",
       "      <td>0.740235</td>\n",
       "      <td>0.005658</td>\n",
       "      <td>0.004403</td>\n",
       "      <td>4.903491e-04</td>\n",
       "      <td>1.0</td>\n",
       "      <td>2000</td>\n",
       "      <td>{'alpha': 1.0, 'max_iter': 2000}</td>\n",
       "      <td>0.828745</td>\n",
       "      <td>0.838028</td>\n",
       "      <td>0.845070</td>\n",
       "      <td>...</td>\n",
       "      <td>0.834507</td>\n",
       "      <td>0.010520</td>\n",
       "      <td>9</td>\n",
       "      <td>0.843550</td>\n",
       "      <td>0.841069</td>\n",
       "      <td>0.838348</td>\n",
       "      <td>0.843070</td>\n",
       "      <td>0.841149</td>\n",
       "      <td>0.841437</td>\n",
       "      <td>0.001838</td>\n",
       "    </tr>\n",
       "    <tr>\n",
       "      <th>7</th>\n",
       "      <td>0.721290</td>\n",
       "      <td>0.012196</td>\n",
       "      <td>0.004422</td>\n",
       "      <td>4.759820e-04</td>\n",
       "      <td>1.0</td>\n",
       "      <td>5000</td>\n",
       "      <td>{'alpha': 1.0, 'max_iter': 5000}</td>\n",
       "      <td>0.828425</td>\n",
       "      <td>0.839309</td>\n",
       "      <td>0.849872</td>\n",
       "      <td>...</td>\n",
       "      <td>0.836364</td>\n",
       "      <td>0.009438</td>\n",
       "      <td>7</td>\n",
       "      <td>0.839229</td>\n",
       "      <td>0.844670</td>\n",
       "      <td>0.842350</td>\n",
       "      <td>0.841869</td>\n",
       "      <td>0.847311</td>\n",
       "      <td>0.843086</td>\n",
       "      <td>0.002730</td>\n",
       "    </tr>\n",
       "    <tr>\n",
       "      <th>8</th>\n",
       "      <td>0.737113</td>\n",
       "      <td>0.026265</td>\n",
       "      <td>0.004004</td>\n",
       "      <td>1.784161e-07</td>\n",
       "      <td>1.0</td>\n",
       "      <td>10000</td>\n",
       "      <td>{'alpha': 1.0, 'max_iter': 10000}</td>\n",
       "      <td>0.833227</td>\n",
       "      <td>0.838348</td>\n",
       "      <td>0.844110</td>\n",
       "      <td>...</td>\n",
       "      <td>0.835147</td>\n",
       "      <td>0.010426</td>\n",
       "      <td>8</td>\n",
       "      <td>0.841229</td>\n",
       "      <td>0.845711</td>\n",
       "      <td>0.839069</td>\n",
       "      <td>0.841469</td>\n",
       "      <td>0.839949</td>\n",
       "      <td>0.841485</td>\n",
       "      <td>0.002286</td>\n",
       "    </tr>\n",
       "    <tr>\n",
       "      <th>9</th>\n",
       "      <td>1.849442</td>\n",
       "      <td>0.836899</td>\n",
       "      <td>0.003203</td>\n",
       "      <td>1.601553e-03</td>\n",
       "      <td>10</td>\n",
       "      <td>2000</td>\n",
       "      <td>{'alpha': 10, 'max_iter': 2000}</td>\n",
       "      <td>0.524968</td>\n",
       "      <td>0.481114</td>\n",
       "      <td>0.691101</td>\n",
       "      <td>...</td>\n",
       "      <td>0.552177</td>\n",
       "      <td>0.101800</td>\n",
       "      <td>11</td>\n",
       "      <td>0.532410</td>\n",
       "      <td>0.492958</td>\n",
       "      <td>0.675496</td>\n",
       "      <td>0.417734</td>\n",
       "      <td>0.656370</td>\n",
       "      <td>0.554994</td>\n",
       "      <td>0.097976</td>\n",
       "    </tr>\n",
       "    <tr>\n",
       "      <th>10</th>\n",
       "      <td>2.062527</td>\n",
       "      <td>0.771271</td>\n",
       "      <td>0.004804</td>\n",
       "      <td>7.487998e-04</td>\n",
       "      <td>10</td>\n",
       "      <td>5000</td>\n",
       "      <td>{'alpha': 10, 'max_iter': 5000}</td>\n",
       "      <td>0.478873</td>\n",
       "      <td>0.660371</td>\n",
       "      <td>0.503201</td>\n",
       "      <td>...</td>\n",
       "      <td>0.514020</td>\n",
       "      <td>0.074809</td>\n",
       "      <td>12</td>\n",
       "      <td>0.500240</td>\n",
       "      <td>0.672935</td>\n",
       "      <td>0.505842</td>\n",
       "      <td>0.459907</td>\n",
       "      <td>0.465909</td>\n",
       "      <td>0.520967</td>\n",
       "      <td>0.078118</td>\n",
       "    </tr>\n",
       "    <tr>\n",
       "      <th>11</th>\n",
       "      <td>1.570051</td>\n",
       "      <td>0.735021</td>\n",
       "      <td>0.003804</td>\n",
       "      <td>4.001618e-04</td>\n",
       "      <td>10</td>\n",
       "      <td>10000</td>\n",
       "      <td>{'alpha': 10, 'max_iter': 10000}</td>\n",
       "      <td>0.655570</td>\n",
       "      <td>0.441741</td>\n",
       "      <td>0.483675</td>\n",
       "      <td>...</td>\n",
       "      <td>0.582522</td>\n",
       "      <td>0.098793</td>\n",
       "      <td>10</td>\n",
       "      <td>0.660131</td>\n",
       "      <td>0.446863</td>\n",
       "      <td>0.479033</td>\n",
       "      <td>0.679337</td>\n",
       "      <td>0.677337</td>\n",
       "      <td>0.588540</td>\n",
       "      <td>0.103265</td>\n",
       "    </tr>\n",
       "    <tr>\n",
       "      <th>12</th>\n",
       "      <td>1.843020</td>\n",
       "      <td>0.032530</td>\n",
       "      <td>0.004004</td>\n",
       "      <td>3.015783e-07</td>\n",
       "      <td>100</td>\n",
       "      <td>2000</td>\n",
       "      <td>{'alpha': 100, 'max_iter': 2000}</td>\n",
       "      <td>0.110435</td>\n",
       "      <td>0.748079</td>\n",
       "      <td>0.106594</td>\n",
       "      <td>...</td>\n",
       "      <td>0.282458</td>\n",
       "      <td>0.239407</td>\n",
       "      <td>13</td>\n",
       "      <td>0.110515</td>\n",
       "      <td>0.749120</td>\n",
       "      <td>0.107394</td>\n",
       "      <td>0.261684</td>\n",
       "      <td>0.190621</td>\n",
       "      <td>0.283867</td>\n",
       "      <td>0.239516</td>\n",
       "    </tr>\n",
       "    <tr>\n",
       "      <th>13</th>\n",
       "      <td>1.838985</td>\n",
       "      <td>0.018866</td>\n",
       "      <td>0.004204</td>\n",
       "      <td>4.003050e-04</td>\n",
       "      <td>100</td>\n",
       "      <td>5000</td>\n",
       "      <td>{'alpha': 100, 'max_iter': 5000}</td>\n",
       "      <td>0.115877</td>\n",
       "      <td>0.737836</td>\n",
       "      <td>0.105634</td>\n",
       "      <td>...</td>\n",
       "      <td>0.245262</td>\n",
       "      <td>0.246869</td>\n",
       "      <td>14</td>\n",
       "      <td>0.117398</td>\n",
       "      <td>0.740637</td>\n",
       "      <td>0.106754</td>\n",
       "      <td>0.151569</td>\n",
       "      <td>0.113876</td>\n",
       "      <td>0.246047</td>\n",
       "      <td>0.247777</td>\n",
       "    </tr>\n",
       "    <tr>\n",
       "      <th>14</th>\n",
       "      <td>1.836808</td>\n",
       "      <td>0.017870</td>\n",
       "      <td>0.003804</td>\n",
       "      <td>4.002573e-04</td>\n",
       "      <td>100</td>\n",
       "      <td>10000</td>\n",
       "      <td>{'alpha': 100, 'max_iter': 10000}</td>\n",
       "      <td>0.110115</td>\n",
       "      <td>0.106594</td>\n",
       "      <td>0.122919</td>\n",
       "      <td>...</td>\n",
       "      <td>0.239565</td>\n",
       "      <td>0.249210</td>\n",
       "      <td>15</td>\n",
       "      <td>0.112356</td>\n",
       "      <td>0.106674</td>\n",
       "      <td>0.125240</td>\n",
       "      <td>0.116357</td>\n",
       "      <td>0.751040</td>\n",
       "      <td>0.242334</td>\n",
       "      <td>0.254425</td>\n",
       "    </tr>\n",
       "  </tbody>\n",
       "</table>\n",
       "<p>15 rows × 22 columns</p>\n",
       "</div>"
      ],
      "text/plain": [
       "    mean_fit_time  std_fit_time  mean_score_time  std_score_time param_alpha  \\\n",
       "0       50.671915      2.690581         0.003804    4.004004e-04      0.0001   \n",
       "1       50.142036      1.507003         0.003804    4.002096e-04      0.0001   \n",
       "2       51.846342      1.931006         0.003804    4.001617e-04      0.0001   \n",
       "3        3.779764      0.190630         0.004004    9.536743e-08        0.01   \n",
       "4        3.620546      0.219875         0.004004    1.784161e-07        0.01   \n",
       "5        3.932798      0.212396         0.004203    4.002333e-04        0.01   \n",
       "6        0.740235      0.005658         0.004403    4.903491e-04         1.0   \n",
       "7        0.721290      0.012196         0.004422    4.759820e-04         1.0   \n",
       "8        0.737113      0.026265         0.004004    1.784161e-07         1.0   \n",
       "9        1.849442      0.836899         0.003203    1.601553e-03          10   \n",
       "10       2.062527      0.771271         0.004804    7.487998e-04          10   \n",
       "11       1.570051      0.735021         0.003804    4.001618e-04          10   \n",
       "12       1.843020      0.032530         0.004004    3.015783e-07         100   \n",
       "13       1.838985      0.018866         0.004204    4.003050e-04         100   \n",
       "14       1.836808      0.017870         0.003804    4.002573e-04         100   \n",
       "\n",
       "   param_max_iter                                params  split0_test_score  \\\n",
       "0            2000   {'alpha': 0.0001, 'max_iter': 2000}           0.842830   \n",
       "1            5000   {'alpha': 0.0001, 'max_iter': 5000}           0.842190   \n",
       "2           10000  {'alpha': 0.0001, 'max_iter': 10000}           0.842190   \n",
       "3            2000     {'alpha': 0.01, 'max_iter': 2000}           0.844750   \n",
       "4            5000     {'alpha': 0.01, 'max_iter': 5000}           0.843470   \n",
       "5           10000    {'alpha': 0.01, 'max_iter': 10000}           0.842510   \n",
       "6            2000      {'alpha': 1.0, 'max_iter': 2000}           0.828745   \n",
       "7            5000      {'alpha': 1.0, 'max_iter': 5000}           0.828425   \n",
       "8           10000     {'alpha': 1.0, 'max_iter': 10000}           0.833227   \n",
       "9            2000       {'alpha': 10, 'max_iter': 2000}           0.524968   \n",
       "10           5000       {'alpha': 10, 'max_iter': 5000}           0.478873   \n",
       "11          10000      {'alpha': 10, 'max_iter': 10000}           0.655570   \n",
       "12           2000      {'alpha': 100, 'max_iter': 2000}           0.110435   \n",
       "13           5000      {'alpha': 100, 'max_iter': 5000}           0.115877   \n",
       "14          10000     {'alpha': 100, 'max_iter': 10000}           0.110115   \n",
       "\n",
       "    split1_test_score  split2_test_score  ...  mean_test_score  \\\n",
       "0            0.848592           0.855314  ...         0.842958   \n",
       "1            0.847311           0.854994  ...         0.842446   \n",
       "2            0.847631           0.854673  ...         0.842254   \n",
       "3            0.852753           0.864917  ...         0.848656   \n",
       "4            0.851793           0.863636  ...         0.847823   \n",
       "5            0.852753           0.861396  ...         0.847055   \n",
       "6            0.838028           0.845070  ...         0.834507   \n",
       "7            0.839309           0.849872  ...         0.836364   \n",
       "8            0.838348           0.844110  ...         0.835147   \n",
       "9            0.481114           0.691101  ...         0.552177   \n",
       "10           0.660371           0.503201  ...         0.514020   \n",
       "11           0.441741           0.483675  ...         0.582522   \n",
       "12           0.748079           0.106594  ...         0.282458   \n",
       "13           0.737836           0.105634  ...         0.245262   \n",
       "14           0.106594           0.122919  ...         0.239565   \n",
       "\n",
       "    std_test_score  rank_test_score  split0_train_score  split1_train_score  \\\n",
       "0         0.008471                4            0.891325            0.891085   \n",
       "1         0.008195                5            0.891485            0.890125   \n",
       "2         0.008390                6            0.892125            0.889725   \n",
       "3         0.010350                1            0.864997            0.860435   \n",
       "4         0.010364                2            0.864197            0.859235   \n",
       "5         0.009777                3            0.865077            0.860115   \n",
       "6         0.010520                9            0.843550            0.841069   \n",
       "7         0.009438                7            0.839229            0.844670   \n",
       "8         0.010426                8            0.841229            0.845711   \n",
       "9         0.101800               11            0.532410            0.492958   \n",
       "10        0.074809               12            0.500240            0.672935   \n",
       "11        0.098793               10            0.660131            0.446863   \n",
       "12        0.239407               13            0.110515            0.749120   \n",
       "13        0.246869               14            0.117398            0.740637   \n",
       "14        0.249210               15            0.112356            0.106674   \n",
       "\n",
       "    split2_train_score  split3_train_score  split4_train_score  \\\n",
       "0             0.887084            0.890685            0.892846   \n",
       "1             0.887404            0.891165            0.893406   \n",
       "2             0.887324            0.891245            0.892686   \n",
       "3             0.858435            0.860595            0.864757   \n",
       "4             0.858595            0.862756            0.866677   \n",
       "5             0.857794            0.860355            0.865077   \n",
       "6             0.838348            0.843070            0.841149   \n",
       "7             0.842350            0.841869            0.847311   \n",
       "8             0.839069            0.841469            0.839949   \n",
       "9             0.675496            0.417734            0.656370   \n",
       "10            0.505842            0.459907            0.465909   \n",
       "11            0.479033            0.679337            0.677337   \n",
       "12            0.107394            0.261684            0.190621   \n",
       "13            0.106754            0.151569            0.113876   \n",
       "14            0.125240            0.116357            0.751040   \n",
       "\n",
       "    mean_train_score  std_train_score  \n",
       "0           0.890605         0.001907  \n",
       "1           0.890717         0.001967  \n",
       "2           0.890621         0.001928  \n",
       "3           0.861844         0.002592  \n",
       "4           0.862292         0.003036  \n",
       "5           0.861684         0.002911  \n",
       "6           0.841437         0.001838  \n",
       "7           0.843086         0.002730  \n",
       "8           0.841485         0.002286  \n",
       "9           0.554994         0.097976  \n",
       "10          0.520967         0.078118  \n",
       "11          0.588540         0.103265  \n",
       "12          0.283867         0.239516  \n",
       "13          0.246047         0.247777  \n",
       "14          0.242334         0.254425  \n",
       "\n",
       "[15 rows x 22 columns]"
      ]
     },
     "execution_count": 21,
     "metadata": {},
     "output_type": "execute_result"
    }
   ],
   "source": [
    "pd.DataFrame(grid_search.cv_results_)"
   ]
  },
  {
   "cell_type": "markdown",
   "id": "ae98f98a",
   "metadata": {},
   "source": [
    "# Findings from Grid Search\n",
    "max_iter doesn't change the accuracy that much. But higher alpha value decreases the accuracy. "
   ]
  },
  {
   "cell_type": "code",
   "execution_count": 25,
   "id": "2ea23445",
   "metadata": {},
   "outputs": [
    {
     "data": {
      "text/plain": [
       "(4011, 3993)"
      ]
     },
     "execution_count": 25,
     "metadata": {},
     "output_type": "execute_result"
    }
   ],
   "source": [
    "sgd_clf_3 = SGDClassifier(max_iter=2000, alpha=0.01, random_state=42)\n",
    "sgd_clf_4 = SGDClassifier(max_iter=2000, alpha=0.01, random_state=42)\n",
    "\n",
    "sgd_clf_3.fit(X_train, y_train)\n",
    "sgd_clf_4.fit(std_X_train, std_y_train)\n",
    "\n",
    "y_pred = sgd_clf_3.predict(X_test)\n",
    "std_y_pred = sgd_clf_4.predict(std_X_test)\n",
    "\n",
    "sum(y_pred == y_test), sum(std_y_pred == y_test)"
   ]
  },
  {
   "cell_type": "code",
   "execution_count": 31,
   "id": "af7483ce",
   "metadata": {},
   "outputs": [
    {
     "name": "stdout",
     "output_type": "stream",
     "text": [
      "0.8559539052496798\n",
      "0.852112676056338\n"
     ]
    }
   ],
   "source": [
    "print(sgd_clf_3.score(X_test, y_test))\n",
    "print(sgd_clf_4.score(std_X_test, std_y_test))"
   ]
  },
  {
   "cell_type": "markdown",
   "id": "9e503af9",
   "metadata": {},
   "source": [
    "## Confusion matrix"
   ]
  },
  {
   "cell_type": "code",
   "execution_count": 8,
   "id": "328a1d7b",
   "metadata": {},
   "outputs": [],
   "source": [
    "from sklearn.metrics import confusion_matrix"
   ]
  },
  {
   "cell_type": "code",
   "execution_count": 26,
   "id": "e035c8c1",
   "metadata": {},
   "outputs": [
    {
     "data": {
      "text/plain": [
       "array([[440,   3,   9,   9,   2,   5,  12,   7,   6,   6],\n",
       "       [  2, 396,   6,   3,   0,   7,  10,   7,   8,  26],\n",
       "       [  2,   0, 427,   0,  10,   8,  10,   7,  11,   7],\n",
       "       [  5,   2,   7, 402,   0,   5,  49,   5,   6,   9],\n",
       "       [  3,   0,   4,   1, 386,   8,  10,   3,   4,   1],\n",
       "       [  3,   0,  10,   2,   8, 381,  56,   8,   7,   5],\n",
       "       [  1,   1,   2,  24,   0,  10, 397,   6,   4,  11],\n",
       "       [  0,   0,  10,   2,   0,  11,   4, 400,   3,   6],\n",
       "       [  1,   1,  11,   2,   1,   4,  16,   2, 429,   3],\n",
       "       [  0,  40,  17,   8,   6,   2,  36,   7,  19, 353]], dtype=int64)"
      ]
     },
     "execution_count": 26,
     "metadata": {},
     "output_type": "execute_result"
    }
   ],
   "source": [
    "con_mx = confusion_matrix(y_test, y_pred) # predictions are from sgd_clf_1\n",
    "con_mx"
   ]
  },
  {
   "cell_type": "code",
   "execution_count": 27,
   "id": "d6aa6897",
   "metadata": {},
   "outputs": [
    {
     "data": {
      "text/plain": [
       "<matplotlib.image.AxesImage at 0x1886f1865d0>"
      ]
     },
     "execution_count": 27,
     "metadata": {},
     "output_type": "execute_result"
    },
    {
     "data": {
      "image/png": "[encoded data removed]",
      "text/plain": [
       "<Figure size 480x480 with 1 Axes>"
      ]
     },
     "metadata": {},
     "output_type": "display_data"
    }
   ],
   "source": [
    "plt.matshow(con_mx, cmap=plt.cm.gray)"
   ]
  },
  {
   "cell_type": "markdown",
   "id": "6b81fe6f",
   "metadata": {},
   "source": [
    "### 5,6 and 3,6 are more error-prone "
   ]
  },
  {
   "cell_type": "markdown",
   "id": "29e2d8a1",
   "metadata": {},
   "source": [
    "## Precision and Recall"
   ]
  },
  {
   "cell_type": "code",
   "execution_count": 28,
   "id": "2d813323",
   "metadata": {},
   "outputs": [
    {
     "name": "stdout",
     "output_type": "stream",
     "text": [
      "[0.96280088 0.89390519 0.84890656 0.88741722 0.9346247  0.86394558\n",
      " 0.66166667 0.88495575 0.86317907 0.82669789] [0.88176353 0.8516129  0.88589212 0.82040816 0.91904762 0.79375\n",
      " 0.87061404 0.91743119 0.91276596 0.72336066]\n"
     ]
    }
   ],
   "source": [
    "from sklearn.metrics import precision_score, recall_score\n",
    "\n",
    "precision = precision_score(y_test, y_pred,average=None)\n",
    "recall = recall_score(y_test, y_pred,average=None)\n",
    "\n",
    "print(precision, recall)"
   ]
  },
  {
   "cell_type": "markdown",
   "id": "2c5e15bd",
   "metadata": {},
   "source": [
    "### 6 has very low precision\n",
    "How can we increase it's precision?"
   ]
  },
  {
   "cell_type": "markdown",
   "id": "1611b021",
   "metadata": {},
   "source": [
    "# K Nearest Neighbors (KNN)"
   ]
  },
  {
   "cell_type": "code",
   "execution_count": 32,
   "id": "4fb91441",
   "metadata": {},
   "outputs": [
    {
     "name": "stdout",
     "output_type": "stream",
     "text": [
      "Number of correct predictions: 4124\n",
      "Accuracy: 0.8800682885189928\n"
     ]
    }
   ],
   "source": [
    "from sklearn.neighbors import KNeighborsClassifier\n",
    "\n",
    "knn_clf = KNeighborsClassifier(n_neighbors=5)\n",
    "knn_clf.fit(X_train, y_train)\n",
    "knn_y_pred = knn_clf.predict(X_test)\n",
    "\n",
    "knn_n_correct = sum(knn_y_pred == y_test)\n",
    "print(\"Number of correct predictions:\", knn_n_correct)\n",
    "print(\"Accuracy:\", knn_n_correct/len(y_pred))"
   ]
  },
  {
   "cell_type": "code",
   "execution_count": 34,
   "id": "93071571",
   "metadata": {},
   "outputs": [
    {
     "data": {
      "text/plain": [
       "0.8655569782330346"
      ]
     },
     "execution_count": 34,
     "metadata": {},
     "output_type": "execute_result"
    }
   ],
   "source": [
    "KNeighborsClassifier(n_neighbors=5).fit(std_X_train, std_y_train).score(std_X_test, std_y_test)"
   ]
  },
  {
   "cell_type": "code",
   "execution_count": 36,
   "id": "88ee351e",
   "metadata": {},
   "outputs": [
    {
     "data": {
      "text/html": [
       "<style>#sk-container-id-5 {color: black;}#sk-container-id-5 pre{padding: 0;}#sk-container-id-5 div.sk-toggleable {background-color: white;}#sk-container-id-5 label.sk-toggleable__label {cursor: pointer;display: block;width: 100%;margin-bottom: 0;padding: 0.3em;box-sizing: border-box;text-align: center;}#sk-container-id-5 label.sk-toggleable__label-arrow:before {content: \"▸\";float: left;margin-right: 0.25em;color: #696969;}#sk-container-id-5 label.sk-toggleable__label-arrow:hover:before {color: black;}#sk-container-id-5 div.sk-estimator:hover label.sk-toggleable__label-arrow:before {color: black;}#sk-container-id-5 div.sk-toggleable__content {max-height: 0;max-width: 0;overflow: hidden;text-align: left;background-color: #f0f8ff;}#sk-container-id-5 div.sk-toggleable__content pre {margin: 0.2em;color: black;border-radius: 0.25em;background-color: #f0f8ff;}#sk-container-id-5 input.sk-toggleable__control:checked~div.sk-toggleable__content {max-height: 200px;max-width: 100%;overflow: auto;}#sk-container-id-5 input.sk-toggleable__control:checked~label.sk-toggleable__label-arrow:before {content: \"▾\";}#sk-container-id-5 div.sk-estimator input.sk-toggleable__control:checked~label.sk-toggleable__label {background-color: #d4ebff;}#sk-container-id-5 div.sk-label input.sk-toggleable__control:checked~label.sk-toggleable__label {background-color: #d4ebff;}#sk-container-id-5 input.sk-hidden--visually {border: 0;clip: rect(1px 1px 1px 1px);clip: rect(1px, 1px, 1px, 1px);height: 1px;margin: -1px;overflow: hidden;padding: 0;position: absolute;width: 1px;}#sk-container-id-5 div.sk-estimator {font-family: monospace;background-color: #f0f8ff;border: 1px dotted black;border-radius: 0.25em;box-sizing: border-box;margin-bottom: 0.5em;}#sk-container-id-5 div.sk-estimator:hover {background-color: #d4ebff;}#sk-container-id-5 div.sk-parallel-item::after {content: \"\";width: 100%;border-bottom: 1px solid gray;flex-grow: 1;}#sk-container-id-5 div.sk-label:hover label.sk-toggleable__label {background-color: #d4ebff;}#sk-container-id-5 div.sk-serial::before {content: \"\";position: absolute;border-left: 1px solid gray;box-sizing: border-box;top: 0;bottom: 0;left: 50%;z-index: 0;}#sk-container-id-5 div.sk-serial {display: flex;flex-direction: column;align-items: center;background-color: white;padding-right: 0.2em;padding-left: 0.2em;position: relative;}#sk-container-id-5 div.sk-item {position: relative;z-index: 1;}#sk-container-id-5 div.sk-parallel {display: flex;align-items: stretch;justify-content: center;background-color: white;position: relative;}#sk-container-id-5 div.sk-item::before, #sk-container-id-5 div.sk-parallel-item::before {content: \"\";position: absolute;border-left: 1px solid gray;box-sizing: border-box;top: 0;bottom: 0;left: 50%;z-index: -1;}#sk-container-id-5 div.sk-parallel-item {display: flex;flex-direction: column;z-index: 1;position: relative;background-color: white;}#sk-container-id-5 div.sk-parallel-item:first-child::after {align-self: flex-end;width: 50%;}#sk-container-id-5 div.sk-parallel-item:last-child::after {align-self: flex-start;width: 50%;}#sk-container-id-5 div.sk-parallel-item:only-child::after {width: 0;}#sk-container-id-5 div.sk-dashed-wrapped {border: 1px dashed gray;margin: 0 0.4em 0.5em 0.4em;box-sizing: border-box;padding-bottom: 0.4em;background-color: white;}#sk-container-id-5 div.sk-label label {font-family: monospace;font-weight: bold;display: inline-block;line-height: 1.2em;}#sk-container-id-5 div.sk-label-container {text-align: center;}#sk-container-id-5 div.sk-container {/* jupyter's `normalize.less` sets `[hidden] { display: none; }` but bootstrap.min.css set `[hidden] { display: none !important; }` so we also need the `!important` here to be able to override the default hidden behavior on the sphinx rendered scikit-learn.org. See: https://github.com/scikit-learn/scikit-learn/issues/21755 */display: inline-block !important;position: relative;}#sk-container-id-5 div.sk-text-repr-fallback {display: none;}</style><div id=\"sk-container-id-5\" class=\"sk-top-container\"><div class=\"sk-text-repr-fallback\"><pre>GridSearchCV(cv=5, estimator=KNeighborsClassifier(),\n",
       "             param_grid=[{&#x27;n_neighbors&#x27;: [3, 5, 10]}], return_train_score=True,\n",
       "             scoring=&#x27;accuracy&#x27;)</pre><b>In a Jupyter environment, please rerun this cell to show the HTML representation or trust the notebook. <br />On GitHub, the HTML representation is unable to render, please try loading this page with nbviewer.org.</b></div><div class=\"sk-container\" hidden><div class=\"sk-item sk-dashed-wrapped\"><div class=\"sk-label-container\"><div class=\"sk-label sk-toggleable\"><input class=\"sk-toggleable__control sk-hidden--visually\" id=\"sk-estimator-id-11\" type=\"checkbox\" ><label for=\"sk-estimator-id-11\" class=\"sk-toggleable__label sk-toggleable__label-arrow\">GridSearchCV</label><div class=\"sk-toggleable__content\"><pre>GridSearchCV(cv=5, estimator=KNeighborsClassifier(),\n",
       "             param_grid=[{&#x27;n_neighbors&#x27;: [3, 5, 10]}], return_train_score=True,\n",
       "             scoring=&#x27;accuracy&#x27;)</pre></div></div></div><div class=\"sk-parallel\"><div class=\"sk-parallel-item\"><div class=\"sk-item\"><div class=\"sk-label-container\"><div class=\"sk-label sk-toggleable\"><input class=\"sk-toggleable__control sk-hidden--visually\" id=\"sk-estimator-id-12\" type=\"checkbox\" ><label for=\"sk-estimator-id-12\" class=\"sk-toggleable__label sk-toggleable__label-arrow\">estimator: KNeighborsClassifier</label><div class=\"sk-toggleable__content\"><pre>KNeighborsClassifier()</pre></div></div></div><div class=\"sk-serial\"><div class=\"sk-item\"><div class=\"sk-estimator sk-toggleable\"><input class=\"sk-toggleable__control sk-hidden--visually\" id=\"sk-estimator-id-13\" type=\"checkbox\" ><label for=\"sk-estimator-id-13\" class=\"sk-toggleable__label sk-toggleable__label-arrow\">KNeighborsClassifier</label><div class=\"sk-toggleable__content\"><pre>KNeighborsClassifier()</pre></div></div></div></div></div></div></div></div></div></div>"
      ],
      "text/plain": [
       "GridSearchCV(cv=5, estimator=KNeighborsClassifier(),\n",
       "             param_grid=[{'n_neighbors': [3, 5, 10]}], return_train_score=True,\n",
       "             scoring='accuracy')"
      ]
     },
     "execution_count": 36,
     "metadata": {},
     "output_type": "execute_result"
    }
   ],
   "source": [
    "param_grid = [\n",
    "    {\n",
    "    'n_neighbors': [ 3,5,10]\n",
    "    }\n",
    "]\n",
    "\n",
    "grid_search = GridSearchCV(KNeighborsClassifier(), param_grid, cv=5, scoring=\"accuracy\", return_train_score=True)\n",
    "grid_search.fit(X,y)"
   ]
  },
  {
   "cell_type": "code",
   "execution_count": 37,
   "id": "2b4772a2",
   "metadata": {},
   "outputs": [
    {
     "data": {
      "text/plain": [
       "(KNeighborsClassifier(), 0.879449423815621)"
      ]
     },
     "execution_count": 37,
     "metadata": {},
     "output_type": "execute_result"
    }
   ],
   "source": [
    "grid_search.best_estimator_, grid_search.best_score_ "
   ]
  },
  {
   "cell_type": "code",
   "execution_count": 38,
   "id": "3b23b94e",
   "metadata": {},
   "outputs": [
    {
     "data": {
      "text/html": [
       "<div>\n",
       "<style scoped>\n",
       "    .dataframe tbody tr th:only-of-type {\n",
       "        vertical-align: middle;\n",
       "    }\n",
       "\n",
       "    .dataframe tbody tr th {\n",
       "        vertical-align: top;\n",
       "    }\n",
       "\n",
       "    .dataframe thead th {\n",
       "        text-align: right;\n",
       "    }\n",
       "</style>\n",
       "<table border=\"1\" class=\"dataframe\">\n",
       "  <thead>\n",
       "    <tr style=\"text-align: right;\">\n",
       "      <th></th>\n",
       "      <th>mean_fit_time</th>\n",
       "      <th>std_fit_time</th>\n",
       "      <th>mean_score_time</th>\n",
       "      <th>std_score_time</th>\n",
       "      <th>param_n_neighbors</th>\n",
       "      <th>params</th>\n",
       "      <th>split0_test_score</th>\n",
       "      <th>split1_test_score</th>\n",
       "      <th>split2_test_score</th>\n",
       "      <th>split3_test_score</th>\n",
       "      <th>...</th>\n",
       "      <th>mean_test_score</th>\n",
       "      <th>std_test_score</th>\n",
       "      <th>rank_test_score</th>\n",
       "      <th>split0_train_score</th>\n",
       "      <th>split1_train_score</th>\n",
       "      <th>split2_train_score</th>\n",
       "      <th>split3_train_score</th>\n",
       "      <th>split4_train_score</th>\n",
       "      <th>mean_train_score</th>\n",
       "      <th>std_train_score</th>\n",
       "    </tr>\n",
       "  </thead>\n",
       "  <tbody>\n",
       "    <tr>\n",
       "      <th>0</th>\n",
       "      <td>0.030828</td>\n",
       "      <td>0.001602</td>\n",
       "      <td>0.343797</td>\n",
       "      <td>0.032063</td>\n",
       "      <td>3</td>\n",
       "      <td>{'n_neighbors': 3}</td>\n",
       "      <td>0.869398</td>\n",
       "      <td>0.882202</td>\n",
       "      <td>0.889565</td>\n",
       "      <td>0.881242</td>\n",
       "      <td>...</td>\n",
       "      <td>0.878233</td>\n",
       "      <td>0.008013</td>\n",
       "      <td>2</td>\n",
       "      <td>0.934619</td>\n",
       "      <td>0.931178</td>\n",
       "      <td>0.929257</td>\n",
       "      <td>0.932298</td>\n",
       "      <td>0.933179</td>\n",
       "      <td>0.932106</td>\n",
       "      <td>0.001815</td>\n",
       "    </tr>\n",
       "    <tr>\n",
       "      <th>1</th>\n",
       "      <td>0.032029</td>\n",
       "      <td>0.002532</td>\n",
       "      <td>0.355416</td>\n",
       "      <td>0.018992</td>\n",
       "      <td>5</td>\n",
       "      <td>{'n_neighbors': 5}</td>\n",
       "      <td>0.873560</td>\n",
       "      <td>0.886364</td>\n",
       "      <td>0.891485</td>\n",
       "      <td>0.877401</td>\n",
       "      <td>...</td>\n",
       "      <td>0.879449</td>\n",
       "      <td>0.008400</td>\n",
       "      <td>1</td>\n",
       "      <td>0.919734</td>\n",
       "      <td>0.919574</td>\n",
       "      <td>0.918134</td>\n",
       "      <td>0.922375</td>\n",
       "      <td>0.921735</td>\n",
       "      <td>0.920310</td>\n",
       "      <td>0.001543</td>\n",
       "    </tr>\n",
       "    <tr>\n",
       "      <th>2</th>\n",
       "      <td>0.031758</td>\n",
       "      <td>0.001280</td>\n",
       "      <td>0.347969</td>\n",
       "      <td>0.014621</td>\n",
       "      <td>10</td>\n",
       "      <td>{'n_neighbors': 10}</td>\n",
       "      <td>0.868758</td>\n",
       "      <td>0.879962</td>\n",
       "      <td>0.884763</td>\n",
       "      <td>0.869078</td>\n",
       "      <td>...</td>\n",
       "      <td>0.872151</td>\n",
       "      <td>0.009336</td>\n",
       "      <td>3</td>\n",
       "      <td>0.901889</td>\n",
       "      <td>0.898848</td>\n",
       "      <td>0.897887</td>\n",
       "      <td>0.900368</td>\n",
       "      <td>0.901649</td>\n",
       "      <td>0.900128</td>\n",
       "      <td>0.001558</td>\n",
       "    </tr>\n",
       "  </tbody>\n",
       "</table>\n",
       "<p>3 rows × 21 columns</p>\n",
       "</div>"
      ],
      "text/plain": [
       "   mean_fit_time  std_fit_time  mean_score_time  std_score_time  \\\n",
       "0       0.030828      0.001602         0.343797        0.032063   \n",
       "1       0.032029      0.002532         0.355416        0.018992   \n",
       "2       0.031758      0.001280         0.347969        0.014621   \n",
       "\n",
       "  param_n_neighbors               params  split0_test_score  \\\n",
       "0                 3   {'n_neighbors': 3}           0.869398   \n",
       "1                 5   {'n_neighbors': 5}           0.873560   \n",
       "2                10  {'n_neighbors': 10}           0.868758   \n",
       "\n",
       "   split1_test_score  split2_test_score  split3_test_score  ...  \\\n",
       "0           0.882202           0.889565           0.881242  ...   \n",
       "1           0.886364           0.891485           0.877401  ...   \n",
       "2           0.879962           0.884763           0.869078  ...   \n",
       "\n",
       "   mean_test_score  std_test_score  rank_test_score  split0_train_score  \\\n",
       "0         0.878233        0.008013                2            0.934619   \n",
       "1         0.879449        0.008400                1            0.919734   \n",
       "2         0.872151        0.009336                3            0.901889   \n",
       "\n",
       "   split1_train_score  split2_train_score  split3_train_score  \\\n",
       "0            0.931178            0.929257            0.932298   \n",
       "1            0.919574            0.918134            0.922375   \n",
       "2            0.898848            0.897887            0.900368   \n",
       "\n",
       "   split4_train_score  mean_train_score  std_train_score  \n",
       "0            0.933179          0.932106         0.001815  \n",
       "1            0.921735          0.920310         0.001543  \n",
       "2            0.901649          0.900128         0.001558  \n",
       "\n",
       "[3 rows x 21 columns]"
      ]
     },
     "execution_count": 38,
     "metadata": {},
     "output_type": "execute_result"
    }
   ],
   "source": [
    "pd.DataFrame(grid_search.cv_results_)"
   ]
  },
  {
   "cell_type": "code",
   "execution_count": 39,
   "id": "d3aaa2e0",
   "metadata": {},
   "outputs": [
    {
     "data": {
      "text/plain": [
       "array([[480,   6,   1,   3,   2,   3,   1,   2,   0,   1],\n",
       "       [ 11, 433,   6,   1,   1,   0,   3,   0,   1,   9],\n",
       "       [  1,  13, 454,   1,   5,   1,   2,   4,   1,   0],\n",
       "       [ 17,   6,   0, 440,   2,   2,  21,   1,   1,   0],\n",
       "       [ 11,   0,   5,   1, 388,   2,   3,   5,   4,   1],\n",
       "       [ 25,   2,   8,   6,   2, 353,  81,   2,   1,   0],\n",
       "       [  5,   4,   2,  28,   0,  11, 403,   0,   1,   2],\n",
       "       [  6,   3,   4,   0,   1,   0,   1, 421,   0,   0],\n",
       "       [ 20,   6,   1,   3,   5,   0,   6,   1, 428,   0],\n",
       "       [ 28,  93,  10,   4,   3,   3,   5,  15,   3, 324]], dtype=int64)"
      ]
     },
     "execution_count": 39,
     "metadata": {},
     "output_type": "execute_result"
    }
   ],
   "source": [
    "con_mx_knn = confusion_matrix(y_test, knn_y_pred) # predictions are from knn_clf\n",
    "con_mx_knn"
   ]
  },
  {
   "cell_type": "code",
   "execution_count": 40,
   "id": "1eb47534",
   "metadata": {},
   "outputs": [
    {
     "data": {
      "text/plain": [
       "<matplotlib.image.AxesImage at 0x1886fcb2f10>"
      ]
     },
     "execution_count": 40,
     "metadata": {},
     "output_type": "execute_result"
    },
    {
     "data": {
      "image/png": "[encoded data removed]",
      "text/plain": [
       "<Figure size 480x480 with 1 Axes>"
      ]
     },
     "metadata": {},
     "output_type": "display_data"
    }
   ],
   "source": [
    "plt.matshow(con_mx_knn, cmap=plt.cm.gray)"
   ]
  },
  {
   "cell_type": "markdown",
   "id": "323169fe",
   "metadata": {},
   "source": [
    "# Logistic Regression"
   ]
  },
  {
   "cell_type": "code",
   "execution_count": 11,
   "id": "afdb82c7",
   "metadata": {},
   "outputs": [
    {
     "name": "stdout",
     "output_type": "stream",
     "text": [
      "Number of correct predictions: 3841\n",
      "Accuracy: 0.8196756295347845\n"
     ]
    }
   ],
   "source": [
    "from sklearn.linear_model import LogisticRegression\n",
    "\n",
    "lgr_clf = LogisticRegression(solver = 'liblinear', C=1.0, random_state=42)\n",
    "lgr_clf.fit(std_X_train, std_y_train)\n",
    "lgr_y_pred = lgr_clf.predict(std_X_test)\n",
    "\n",
    "lgr_n_correct = sum(lgr_y_pred == std_y_test)\n",
    "print(\"Number of correct predictions:\", lgr_n_correct)\n",
    "print(\"Accuracy:\", lgr_n_correct/len(lgr_y_pred))"
   ]
  },
  {
   "cell_type": "code",
   "execution_count": 15,
   "id": "906b983b",
   "metadata": {},
   "outputs": [
    {
     "data": {
      "text/plain": [
       "0.8474178403755869"
      ]
     },
     "execution_count": 15,
     "metadata": {},
     "output_type": "execute_result"
    }
   ],
   "source": [
    "LogisticRegression(solver = 'liblinear', C=0.01, random_state=42).fit(std_X_train, std_y_train).score(std_X_test, std_y_test)"
   ]
  },
  {
   "cell_type": "code",
   "execution_count": 21,
   "id": "eca87aef",
   "metadata": {},
   "outputs": [],
   "source": [
    "lgr_clf_2 = LogisticRegression(solver = 'liblinear', C=0.01, random_state=42)\n",
    "lgr_clf_2.fit(X_train, y_train)\n",
    "lgr_y_pred_2 = lgr_clf_2.predict(X_test)"
   ]
  },
  {
   "cell_type": "code",
   "execution_count": 22,
   "id": "c7b86916",
   "metadata": {},
   "outputs": [
    {
     "data": {
      "text/plain": [
       "array([[442,   2,   9,   8,   8,   3,   4,   8,   5,  10],\n",
       "       [  2, 403,   7,   0,   1,   4,   6,   8,   7,  27],\n",
       "       [  7,   2, 412,   0,  15,   9,   2,   8,   9,  18],\n",
       "       [  6,   2,   7, 409,   1,   6,  33,   7,   6,  13],\n",
       "       [  3,   0,   3,   2, 389,   5,   4,   4,   6,   4],\n",
       "       [  5,   2,  10,   5,  14, 384,  32,   9,   9,  10],\n",
       "       [  1,   3,   3,  37,   1,  14, 365,   9,   5,  18],\n",
       "       [  0,   0,  10,   2,   1,  11,   2, 396,   3,  11],\n",
       "       [  2,   1,   6,   3,   6,   3,   4,   4, 427,  14],\n",
       "       [  4,  52,  15,   5,  11,   0,  17,  11,  18, 355]], dtype=int64)"
      ]
     },
     "execution_count": 22,
     "metadata": {},
     "output_type": "execute_result"
    }
   ],
   "source": [
    "con_mx_knn = confusion_matrix(y_test, lgr_y_pred_2) # predictions are from lgr_clf_2\n",
    "con_mx_knn"
   ]
  },
  {
   "cell_type": "code",
   "execution_count": 23,
   "id": "9d9523f8",
   "metadata": {},
   "outputs": [
    {
     "data": {
      "text/plain": [
       "<matplotlib.image.AxesImage at 0x1b3818a3650>"
      ]
     },
     "execution_count": 23,
     "metadata": {},
     "output_type": "execute_result"
    },
    {
     "data": {
      "image/png": "[encoded data removed]",
      "text/plain": [
       "<Figure size 480x480 with 1 Axes>"
      ]
     },
     "metadata": {},
     "output_type": "display_data"
    }
   ],
   "source": [
    "plt.matshow(con_mx_knn, cmap=plt.cm.gray)"
   ]
  },
  {
   "cell_type": "markdown",
   "id": "6bad24c6",
   "metadata": {},
   "source": [
    "# Random Forests"
   ]
  },
  {
   "cell_type": "code",
   "execution_count": 29,
   "id": "641979e8",
   "metadata": {},
   "outputs": [
    {
     "name": "stdout",
     "output_type": "stream",
     "text": [
      "Number of correct predictions: 3998\n",
      "Accuracy: 0.8531796841655996\n"
     ]
    }
   ],
   "source": [
    "from sklearn.ensemble import RandomForestClassifier\n",
    "\n",
    "rnd_clf = RandomForestClassifier(n_estimators=1000, max_leaf_nodes=100, n_jobs=-1)\n",
    "rnd_clf.fit(std_X_train, std_y_train)\n",
    "rnd_y_pred = rnd_clf.predict(std_X_test)\n",
    "\n",
    "rnd_n_correct = sum(rnd_y_pred == std_y_test)\n",
    "print(\"Number of correct predictions:\", rnd_n_correct)\n",
    "print(\"Accuracy:\", rnd_n_correct/len(rnd_y_pred))"
   ]
  },
  {
   "cell_type": "markdown",
   "id": "97df3496",
   "metadata": {},
   "source": [
    "# SVM Classifier"
   ]
  },
  {
   "cell_type": "code",
   "execution_count": 7,
   "id": "ad87c04a",
   "metadata": {},
   "outputs": [],
   "source": [
    "from sklearn.svm import SVC"
   ]
  },
  {
   "cell_type": "code",
   "execution_count": 9,
   "id": "5c376385",
   "metadata": {},
   "outputs": [
    {
     "name": "stdout",
     "output_type": "stream",
     "text": [
      "Number of correct predictions: 4250\n",
      "Accuracy: 0.9069568928723858\n"
     ]
    }
   ],
   "source": [
    "svm_clf = SVC()\n",
    "svm_clf.fit(X_train, y_train)\n",
    "svm_y_pred = svm_clf.predict(X_test)\n",
    "\n",
    "svm_n_correct = sum(svm_y_pred == y_test)\n",
    "print(\"Number of correct predictions:\", svm_n_correct)\n",
    "print(\"Accuracy:\", svm_n_correct/len(svm_y_pred))"
   ]
  },
  {
   "cell_type": "code",
   "execution_count": null,
   "id": "04fb0920",
   "metadata": {},
   "outputs": [],
   "source": [
    "svm_clf.score(X_test, y_test)"
   ]
  },
  {
   "cell_type": "code",
   "execution_count": 26,
   "id": "5440abab",
   "metadata": {},
   "outputs": [
    {
     "name": "stdout",
     "output_type": "stream",
     "text": [
      "[0.90554415 0.84095861 0.82170543 0.84076433 0.92931937 0.8317757\n",
      " 0.67631103 0.92944039 0.8647541  0.73523422]\n",
      "[0.88376754 0.83010753 0.87966805 0.80816327 0.8452381  0.74166667\n",
      " 0.82017544 0.87614679 0.89787234 0.7397541 ]\n"
     ]
    }
   ],
   "source": [
    "svm_precision = precision_score(y_test, y_pred,average=None)\n",
    "svm_recall = recall_score(y_test, y_pred,average=None)\n",
    "\n",
    "print(svm_precision)\n",
    "print(svm_recall)"
   ]
  },
  {
   "cell_type": "markdown",
   "id": "28b8eb78",
   "metadata": {},
   "source": [
    "# Hyperparameter Tuning on SVM Classifier"
   ]
  },
  {
   "cell_type": "code",
   "execution_count": 18,
   "id": "1b26ef72",
   "metadata": {},
   "outputs": [
    {
     "data": {
      "text/plain": [
       "0.9003414425949637"
      ]
     },
     "execution_count": 18,
     "metadata": {},
     "output_type": "execute_result"
    }
   ],
   "source": [
    "poly_karnel_svm_clf = SVC(kernel=\"poly\", degree=5, coef0=1, C=1)\n",
    "poly_karnel_svm_clf.fit(X_train, y_train)\n",
    "poly_karnel_svm_clf.score(X_test, y_test)"
   ]
  },
  {
   "cell_type": "code",
   "execution_count": 33,
   "id": "320d974b",
   "metadata": {},
   "outputs": [
    {
     "data": {
      "text/plain": [
       "0.08962868117797695"
      ]
     },
     "execution_count": 33,
     "metadata": {},
     "output_type": "execute_result"
    }
   ],
   "source": [
    "rbf_karnel_svm_clf = SVC(kernel=\"rbf\", gamma=5, C=0.001)\n",
    "rbf_karnel_svm_clf.fit(X_train, y_train)\n",
    "rbf_karnel_svm_clf.score(X_test, y_test)"
   ]
  },
  {
   "cell_type": "code",
   "execution_count": null,
   "id": "bdba6bb6",
   "metadata": {},
   "outputs": [],
   "source": [
    "# LinearSVC"
   ]
  },
  {
   "cell_type": "markdown",
   "id": "8b85f5ca",
   "metadata": {},
   "source": [
    "## Searching best hyperparameters using GridSearchCV"
   ]
  },
  {
   "cell_type": "code",
   "execution_count": 11,
   "id": "d4c2b46c",
   "metadata": {},
   "outputs": [],
   "source": [
    "from sklearn.model_selection import GridSearchCV\n",
    "svm_clf_2 = SVC()\n",
    "\n",
    "param_grid = [\n",
    "    {'kernel': [\"poly\"], 'degree': [3], 'coef0': [1,2,3], 'C': [1,3,5,10]}\n",
    "]\n",
    "\n",
    "grid_search = GridSearchCV(svm_clf_2, param_grid, cv=5, scoring=\"accuracy\", return_train_score=True)"
   ]
  },
  {
   "cell_type": "code",
   "execution_count": 12,
   "id": "9e1e57b6",
   "metadata": {},
   "outputs": [
    {
     "data": {
      "text/html": [
       "<style>#sk-container-id-1 {color: black;}#sk-container-id-1 pre{padding: 0;}#sk-container-id-1 div.sk-toggleable {background-color: white;}#sk-container-id-1 label.sk-toggleable__label {cursor: pointer;display: block;width: 100%;margin-bottom: 0;padding: 0.3em;box-sizing: border-box;text-align: center;}#sk-container-id-1 label.sk-toggleable__label-arrow:before {content: \"▸\";float: left;margin-right: 0.25em;color: #696969;}#sk-container-id-1 label.sk-toggleable__label-arrow:hover:before {color: black;}#sk-container-id-1 div.sk-estimator:hover label.sk-toggleable__label-arrow:before {color: black;}#sk-container-id-1 div.sk-toggleable__content {max-height: 0;max-width: 0;overflow: hidden;text-align: left;background-color: #f0f8ff;}#sk-container-id-1 div.sk-toggleable__content pre {margin: 0.2em;color: black;border-radius: 0.25em;background-color: #f0f8ff;}#sk-container-id-1 input.sk-toggleable__control:checked~div.sk-toggleable__content {max-height: 200px;max-width: 100%;overflow: auto;}#sk-container-id-1 input.sk-toggleable__control:checked~label.sk-toggleable__label-arrow:before {content: \"▾\";}#sk-container-id-1 div.sk-estimator input.sk-toggleable__control:checked~label.sk-toggleable__label {background-color: #d4ebff;}#sk-container-id-1 div.sk-label input.sk-toggleable__control:checked~label.sk-toggleable__label {background-color: #d4ebff;}#sk-container-id-1 input.sk-hidden--visually {border: 0;clip: rect(1px 1px 1px 1px);clip: rect(1px, 1px, 1px, 1px);height: 1px;margin: -1px;overflow: hidden;padding: 0;position: absolute;width: 1px;}#sk-container-id-1 div.sk-estimator {font-family: monospace;background-color: #f0f8ff;border: 1px dotted black;border-radius: 0.25em;box-sizing: border-box;margin-bottom: 0.5em;}#sk-container-id-1 div.sk-estimator:hover {background-color: #d4ebff;}#sk-container-id-1 div.sk-parallel-item::after {content: \"\";width: 100%;border-bottom: 1px solid gray;flex-grow: 1;}#sk-container-id-1 div.sk-label:hover label.sk-toggleable__label {background-color: #d4ebff;}#sk-container-id-1 div.sk-serial::before {content: \"\";position: absolute;border-left: 1px solid gray;box-sizing: border-box;top: 0;bottom: 0;left: 50%;z-index: 0;}#sk-container-id-1 div.sk-serial {display: flex;flex-direction: column;align-items: center;background-color: white;padding-right: 0.2em;padding-left: 0.2em;position: relative;}#sk-container-id-1 div.sk-item {position: relative;z-index: 1;}#sk-container-id-1 div.sk-parallel {display: flex;align-items: stretch;justify-content: center;background-color: white;position: relative;}#sk-container-id-1 div.sk-item::before, #sk-container-id-1 div.sk-parallel-item::before {content: \"\";position: absolute;border-left: 1px solid gray;box-sizing: border-box;top: 0;bottom: 0;left: 50%;z-index: -1;}#sk-container-id-1 div.sk-parallel-item {display: flex;flex-direction: column;z-index: 1;position: relative;background-color: white;}#sk-container-id-1 div.sk-parallel-item:first-child::after {align-self: flex-end;width: 50%;}#sk-container-id-1 div.sk-parallel-item:last-child::after {align-self: flex-start;width: 50%;}#sk-container-id-1 div.sk-parallel-item:only-child::after {width: 0;}#sk-container-id-1 div.sk-dashed-wrapped {border: 1px dashed gray;margin: 0 0.4em 0.5em 0.4em;box-sizing: border-box;padding-bottom: 0.4em;background-color: white;}#sk-container-id-1 div.sk-label label {font-family: monospace;font-weight: bold;display: inline-block;line-height: 1.2em;}#sk-container-id-1 div.sk-label-container {text-align: center;}#sk-container-id-1 div.sk-container {/* jupyter's `normalize.less` sets `[hidden] { display: none; }` but bootstrap.min.css set `[hidden] { display: none !important; }` so we also need the `!important` here to be able to override the default hidden behavior on the sphinx rendered scikit-learn.org. See: https://github.com/scikit-learn/scikit-learn/issues/21755 */display: inline-block !important;position: relative;}#sk-container-id-1 div.sk-text-repr-fallback {display: none;}</style><div id=\"sk-container-id-1\" class=\"sk-top-container\"><div class=\"sk-text-repr-fallback\"><pre>GridSearchCV(cv=5, estimator=SVC(),\n",
       "             param_grid=[{&#x27;C&#x27;: [1, 3, 5, 10], &#x27;coef0&#x27;: [1, 2, 3], &#x27;degree&#x27;: [3],\n",
       "                          &#x27;kernel&#x27;: [&#x27;poly&#x27;]}],\n",
       "             return_train_score=True, scoring=&#x27;accuracy&#x27;)</pre><b>In a Jupyter environment, please rerun this cell to show the HTML representation or trust the notebook. <br />On GitHub, the HTML representation is unable to render, please try loading this page with nbviewer.org.</b></div><div class=\"sk-container\" hidden><div class=\"sk-item sk-dashed-wrapped\"><div class=\"sk-label-container\"><div class=\"sk-label sk-toggleable\"><input class=\"sk-toggleable__control sk-hidden--visually\" id=\"sk-estimator-id-1\" type=\"checkbox\" ><label for=\"sk-estimator-id-1\" class=\"sk-toggleable__label sk-toggleable__label-arrow\">GridSearchCV</label><div class=\"sk-toggleable__content\"><pre>GridSearchCV(cv=5, estimator=SVC(),\n",
       "             param_grid=[{&#x27;C&#x27;: [1, 3, 5, 10], &#x27;coef0&#x27;: [1, 2, 3], &#x27;degree&#x27;: [3],\n",
       "                          &#x27;kernel&#x27;: [&#x27;poly&#x27;]}],\n",
       "             return_train_score=True, scoring=&#x27;accuracy&#x27;)</pre></div></div></div><div class=\"sk-parallel\"><div class=\"sk-parallel-item\"><div class=\"sk-item\"><div class=\"sk-label-container\"><div class=\"sk-label sk-toggleable\"><input class=\"sk-toggleable__control sk-hidden--visually\" id=\"sk-estimator-id-2\" type=\"checkbox\" ><label for=\"sk-estimator-id-2\" class=\"sk-toggleable__label sk-toggleable__label-arrow\">estimator: SVC</label><div class=\"sk-toggleable__content\"><pre>SVC()</pre></div></div></div><div class=\"sk-serial\"><div class=\"sk-item\"><div class=\"sk-estimator sk-toggleable\"><input class=\"sk-toggleable__control sk-hidden--visually\" id=\"sk-estimator-id-3\" type=\"checkbox\" ><label for=\"sk-estimator-id-3\" class=\"sk-toggleable__label sk-toggleable__label-arrow\">SVC</label><div class=\"sk-toggleable__content\"><pre>SVC()</pre></div></div></div></div></div></div></div></div></div></div>"
      ],
      "text/plain": [
       "GridSearchCV(cv=5, estimator=SVC(),\n",
       "             param_grid=[{'C': [1, 3, 5, 10], 'coef0': [1, 2, 3], 'degree': [3],\n",
       "                          'kernel': ['poly']}],\n",
       "             return_train_score=True, scoring='accuracy')"
      ]
     },
     "execution_count": 12,
     "metadata": {},
     "output_type": "execute_result"
    }
   ],
   "source": [
    "grid_search.fit(X_train, y_train)"
   ]
  },
  {
   "cell_type": "code",
   "execution_count": 13,
   "id": "2ba656e3",
   "metadata": {},
   "outputs": [
    {
     "data": {
      "text/html": [
       "<style>#sk-container-id-2 {color: black;}#sk-container-id-2 pre{padding: 0;}#sk-container-id-2 div.sk-toggleable {background-color: white;}#sk-container-id-2 label.sk-toggleable__label {cursor: pointer;display: block;width: 100%;margin-bottom: 0;padding: 0.3em;box-sizing: border-box;text-align: center;}#sk-container-id-2 label.sk-toggleable__label-arrow:before {content: \"▸\";float: left;margin-right: 0.25em;color: #696969;}#sk-container-id-2 label.sk-toggleable__label-arrow:hover:before {color: black;}#sk-container-id-2 div.sk-estimator:hover label.sk-toggleable__label-arrow:before {color: black;}#sk-container-id-2 div.sk-toggleable__content {max-height: 0;max-width: 0;overflow: hidden;text-align: left;background-color: #f0f8ff;}#sk-container-id-2 div.sk-toggleable__content pre {margin: 0.2em;color: black;border-radius: 0.25em;background-color: #f0f8ff;}#sk-container-id-2 input.sk-toggleable__control:checked~div.sk-toggleable__content {max-height: 200px;max-width: 100%;overflow: auto;}#sk-container-id-2 input.sk-toggleable__control:checked~label.sk-toggleable__label-arrow:before {content: \"▾\";}#sk-container-id-2 div.sk-estimator input.sk-toggleable__control:checked~label.sk-toggleable__label {background-color: #d4ebff;}#sk-container-id-2 div.sk-label input.sk-toggleable__control:checked~label.sk-toggleable__label {background-color: #d4ebff;}#sk-container-id-2 input.sk-hidden--visually {border: 0;clip: rect(1px 1px 1px 1px);clip: rect(1px, 1px, 1px, 1px);height: 1px;margin: -1px;overflow: hidden;padding: 0;position: absolute;width: 1px;}#sk-container-id-2 div.sk-estimator {font-family: monospace;background-color: #f0f8ff;border: 1px dotted black;border-radius: 0.25em;box-sizing: border-box;margin-bottom: 0.5em;}#sk-container-id-2 div.sk-estimator:hover {background-color: #d4ebff;}#sk-container-id-2 div.sk-parallel-item::after {content: \"\";width: 100%;border-bottom: 1px solid gray;flex-grow: 1;}#sk-container-id-2 div.sk-label:hover label.sk-toggleable__label {background-color: #d4ebff;}#sk-container-id-2 div.sk-serial::before {content: \"\";position: absolute;border-left: 1px solid gray;box-sizing: border-box;top: 0;bottom: 0;left: 50%;z-index: 0;}#sk-container-id-2 div.sk-serial {display: flex;flex-direction: column;align-items: center;background-color: white;padding-right: 0.2em;padding-left: 0.2em;position: relative;}#sk-container-id-2 div.sk-item {position: relative;z-index: 1;}#sk-container-id-2 div.sk-parallel {display: flex;align-items: stretch;justify-content: center;background-color: white;position: relative;}#sk-container-id-2 div.sk-item::before, #sk-container-id-2 div.sk-parallel-item::before {content: \"\";position: absolute;border-left: 1px solid gray;box-sizing: border-box;top: 0;bottom: 0;left: 50%;z-index: -1;}#sk-container-id-2 div.sk-parallel-item {display: flex;flex-direction: column;z-index: 1;position: relative;background-color: white;}#sk-container-id-2 div.sk-parallel-item:first-child::after {align-self: flex-end;width: 50%;}#sk-container-id-2 div.sk-parallel-item:last-child::after {align-self: flex-start;width: 50%;}#sk-container-id-2 div.sk-parallel-item:only-child::after {width: 0;}#sk-container-id-2 div.sk-dashed-wrapped {border: 1px dashed gray;margin: 0 0.4em 0.5em 0.4em;box-sizing: border-box;padding-bottom: 0.4em;background-color: white;}#sk-container-id-2 div.sk-label label {font-family: monospace;font-weight: bold;display: inline-block;line-height: 1.2em;}#sk-container-id-2 div.sk-label-container {text-align: center;}#sk-container-id-2 div.sk-container {/* jupyter's `normalize.less` sets `[hidden] { display: none; }` but bootstrap.min.css set `[hidden] { display: none !important; }` so we also need the `!important` here to be able to override the default hidden behavior on the sphinx rendered scikit-learn.org. See: https://github.com/scikit-learn/scikit-learn/issues/21755 */display: inline-block !important;position: relative;}#sk-container-id-2 div.sk-text-repr-fallback {display: none;}</style><div id=\"sk-container-id-2\" class=\"sk-top-container\"><div class=\"sk-text-repr-fallback\"><pre>SVC(C=1, coef0=1, kernel=&#x27;poly&#x27;)</pre><b>In a Jupyter environment, please rerun this cell to show the HTML representation or trust the notebook. <br />On GitHub, the HTML representation is unable to render, please try loading this page with nbviewer.org.</b></div><div class=\"sk-container\" hidden><div class=\"sk-item\"><div class=\"sk-estimator sk-toggleable\"><input class=\"sk-toggleable__control sk-hidden--visually\" id=\"sk-estimator-id-4\" type=\"checkbox\" checked><label for=\"sk-estimator-id-4\" class=\"sk-toggleable__label sk-toggleable__label-arrow\">SVC</label><div class=\"sk-toggleable__content\"><pre>SVC(C=1, coef0=1, kernel=&#x27;poly&#x27;)</pre></div></div></div></div></div>"
      ],
      "text/plain": [
       "SVC(C=1, coef0=1, kernel='poly')"
      ]
     },
     "execution_count": 13,
     "metadata": {},
     "output_type": "execute_result"
    }
   ],
   "source": [
    "grid_search.best_estimator_"
   ]
  },
  {
   "cell_type": "code",
   "execution_count": 16,
   "id": "a1fbf0ad",
   "metadata": {},
   "outputs": [
    {
     "data": {
      "text/plain": [
       "0.882202304737516"
      ]
     },
     "execution_count": 16,
     "metadata": {},
     "output_type": "execute_result"
    }
   ],
   "source": [
    "best_svm_clf = SVC(kernel=\"poly\", degree=3, coef0=1, C=1)\n",
    "best_svm_clf.fit(X_train, y_train)\n",
    "best_svm_clf.score(X_test, y_test)"
   ]
  },
  {
   "cell_type": "code",
   "execution_count": 20,
   "id": "81be594b",
   "metadata": {},
   "outputs": [],
   "source": [
    "param_grid_2 = [\n",
    "    {'kernel': [\"poly\"], 'degree': [3,5,10], 'coef0': [1], 'C': [1]}\n",
    "]\n",
    "\n",
    "grid_search_2 = GridSearchCV(SVC(), param_grid_2, cv=5, scoring=\"accuracy\", return_train_score=True)"
   ]
  },
  {
   "cell_type": "code",
   "execution_count": 21,
   "id": "dc392fb1",
   "metadata": {},
   "outputs": [
    {
     "data": {
      "text/html": [
       "<style>#sk-container-id-3 {color: black;}#sk-container-id-3 pre{padding: 0;}#sk-container-id-3 div.sk-toggleable {background-color: white;}#sk-container-id-3 label.sk-toggleable__label {cursor: pointer;display: block;width: 100%;margin-bottom: 0;padding: 0.3em;box-sizing: border-box;text-align: center;}#sk-container-id-3 label.sk-toggleable__label-arrow:before {content: \"▸\";float: left;margin-right: 0.25em;color: #696969;}#sk-container-id-3 label.sk-toggleable__label-arrow:hover:before {color: black;}#sk-container-id-3 div.sk-estimator:hover label.sk-toggleable__label-arrow:before {color: black;}#sk-container-id-3 div.sk-toggleable__content {max-height: 0;max-width: 0;overflow: hidden;text-align: left;background-color: #f0f8ff;}#sk-container-id-3 div.sk-toggleable__content pre {margin: 0.2em;color: black;border-radius: 0.25em;background-color: #f0f8ff;}#sk-container-id-3 input.sk-toggleable__control:checked~div.sk-toggleable__content {max-height: 200px;max-width: 100%;overflow: auto;}#sk-container-id-3 input.sk-toggleable__control:checked~label.sk-toggleable__label-arrow:before {content: \"▾\";}#sk-container-id-3 div.sk-estimator input.sk-toggleable__control:checked~label.sk-toggleable__label {background-color: #d4ebff;}#sk-container-id-3 div.sk-label input.sk-toggleable__control:checked~label.sk-toggleable__label {background-color: #d4ebff;}#sk-container-id-3 input.sk-hidden--visually {border: 0;clip: rect(1px 1px 1px 1px);clip: rect(1px, 1px, 1px, 1px);height: 1px;margin: -1px;overflow: hidden;padding: 0;position: absolute;width: 1px;}#sk-container-id-3 div.sk-estimator {font-family: monospace;background-color: #f0f8ff;border: 1px dotted black;border-radius: 0.25em;box-sizing: border-box;margin-bottom: 0.5em;}#sk-container-id-3 div.sk-estimator:hover {background-color: #d4ebff;}#sk-container-id-3 div.sk-parallel-item::after {content: \"\";width: 100%;border-bottom: 1px solid gray;flex-grow: 1;}#sk-container-id-3 div.sk-label:hover label.sk-toggleable__label {background-color: #d4ebff;}#sk-container-id-3 div.sk-serial::before {content: \"\";position: absolute;border-left: 1px solid gray;box-sizing: border-box;top: 0;bottom: 0;left: 50%;z-index: 0;}#sk-container-id-3 div.sk-serial {display: flex;flex-direction: column;align-items: center;background-color: white;padding-right: 0.2em;padding-left: 0.2em;position: relative;}#sk-container-id-3 div.sk-item {position: relative;z-index: 1;}#sk-container-id-3 div.sk-parallel {display: flex;align-items: stretch;justify-content: center;background-color: white;position: relative;}#sk-container-id-3 div.sk-item::before, #sk-container-id-3 div.sk-parallel-item::before {content: \"\";position: absolute;border-left: 1px solid gray;box-sizing: border-box;top: 0;bottom: 0;left: 50%;z-index: -1;}#sk-container-id-3 div.sk-parallel-item {display: flex;flex-direction: column;z-index: 1;position: relative;background-color: white;}#sk-container-id-3 div.sk-parallel-item:first-child::after {align-self: flex-end;width: 50%;}#sk-container-id-3 div.sk-parallel-item:last-child::after {align-self: flex-start;width: 50%;}#sk-container-id-3 div.sk-parallel-item:only-child::after {width: 0;}#sk-container-id-3 div.sk-dashed-wrapped {border: 1px dashed gray;margin: 0 0.4em 0.5em 0.4em;box-sizing: border-box;padding-bottom: 0.4em;background-color: white;}#sk-container-id-3 div.sk-label label {font-family: monospace;font-weight: bold;display: inline-block;line-height: 1.2em;}#sk-container-id-3 div.sk-label-container {text-align: center;}#sk-container-id-3 div.sk-container {/* jupyter's `normalize.less` sets `[hidden] { display: none; }` but bootstrap.min.css set `[hidden] { display: none !important; }` so we also need the `!important` here to be able to override the default hidden behavior on the sphinx rendered scikit-learn.org. See: https://github.com/scikit-learn/scikit-learn/issues/21755 */display: inline-block !important;position: relative;}#sk-container-id-3 div.sk-text-repr-fallback {display: none;}</style><div id=\"sk-container-id-3\" class=\"sk-top-container\"><div class=\"sk-text-repr-fallback\"><pre>GridSearchCV(cv=5, estimator=SVC(),\n",
       "             param_grid=[{&#x27;C&#x27;: [1], &#x27;coef0&#x27;: [1], &#x27;degree&#x27;: [3, 5, 10],\n",
       "                          &#x27;kernel&#x27;: [&#x27;poly&#x27;]}],\n",
       "             return_train_score=True, scoring=&#x27;accuracy&#x27;)</pre><b>In a Jupyter environment, please rerun this cell to show the HTML representation or trust the notebook. <br />On GitHub, the HTML representation is unable to render, please try loading this page with nbviewer.org.</b></div><div class=\"sk-container\" hidden><div class=\"sk-item sk-dashed-wrapped\"><div class=\"sk-label-container\"><div class=\"sk-label sk-toggleable\"><input class=\"sk-toggleable__control sk-hidden--visually\" id=\"sk-estimator-id-5\" type=\"checkbox\" ><label for=\"sk-estimator-id-5\" class=\"sk-toggleable__label sk-toggleable__label-arrow\">GridSearchCV</label><div class=\"sk-toggleable__content\"><pre>GridSearchCV(cv=5, estimator=SVC(),\n",
       "             param_grid=[{&#x27;C&#x27;: [1], &#x27;coef0&#x27;: [1], &#x27;degree&#x27;: [3, 5, 10],\n",
       "                          &#x27;kernel&#x27;: [&#x27;poly&#x27;]}],\n",
       "             return_train_score=True, scoring=&#x27;accuracy&#x27;)</pre></div></div></div><div class=\"sk-parallel\"><div class=\"sk-parallel-item\"><div class=\"sk-item\"><div class=\"sk-label-container\"><div class=\"sk-label sk-toggleable\"><input class=\"sk-toggleable__control sk-hidden--visually\" id=\"sk-estimator-id-6\" type=\"checkbox\" ><label for=\"sk-estimator-id-6\" class=\"sk-toggleable__label sk-toggleable__label-arrow\">estimator: SVC</label><div class=\"sk-toggleable__content\"><pre>SVC()</pre></div></div></div><div class=\"sk-serial\"><div class=\"sk-item\"><div class=\"sk-estimator sk-toggleable\"><input class=\"sk-toggleable__control sk-hidden--visually\" id=\"sk-estimator-id-7\" type=\"checkbox\" ><label for=\"sk-estimator-id-7\" class=\"sk-toggleable__label sk-toggleable__label-arrow\">SVC</label><div class=\"sk-toggleable__content\"><pre>SVC()</pre></div></div></div></div></div></div></div></div></div></div>"
      ],
      "text/plain": [
       "GridSearchCV(cv=5, estimator=SVC(),\n",
       "             param_grid=[{'C': [1], 'coef0': [1], 'degree': [3, 5, 10],\n",
       "                          'kernel': ['poly']}],\n",
       "             return_train_score=True, scoring='accuracy')"
      ]
     },
     "execution_count": 21,
     "metadata": {},
     "output_type": "execute_result"
    }
   ],
   "source": [
    "grid_search_2.fit(X_train, y_train)"
   ]
  },
  {
   "cell_type": "code",
   "execution_count": 22,
   "id": "5ffc6c05",
   "metadata": {},
   "outputs": [
    {
     "data": {
      "text/html": [
       "<style>#sk-container-id-4 {color: black;}#sk-container-id-4 pre{padding: 0;}#sk-container-id-4 div.sk-toggleable {background-color: white;}#sk-container-id-4 label.sk-toggleable__label {cursor: pointer;display: block;width: 100%;margin-bottom: 0;padding: 0.3em;box-sizing: border-box;text-align: center;}#sk-container-id-4 label.sk-toggleable__label-arrow:before {content: \"▸\";float: left;margin-right: 0.25em;color: #696969;}#sk-container-id-4 label.sk-toggleable__label-arrow:hover:before {color: black;}#sk-container-id-4 div.sk-estimator:hover label.sk-toggleable__label-arrow:before {color: black;}#sk-container-id-4 div.sk-toggleable__content {max-height: 0;max-width: 0;overflow: hidden;text-align: left;background-color: #f0f8ff;}#sk-container-id-4 div.sk-toggleable__content pre {margin: 0.2em;color: black;border-radius: 0.25em;background-color: #f0f8ff;}#sk-container-id-4 input.sk-toggleable__control:checked~div.sk-toggleable__content {max-height: 200px;max-width: 100%;overflow: auto;}#sk-container-id-4 input.sk-toggleable__control:checked~label.sk-toggleable__label-arrow:before {content: \"▾\";}#sk-container-id-4 div.sk-estimator input.sk-toggleable__control:checked~label.sk-toggleable__label {background-color: #d4ebff;}#sk-container-id-4 div.sk-label input.sk-toggleable__control:checked~label.sk-toggleable__label {background-color: #d4ebff;}#sk-container-id-4 input.sk-hidden--visually {border: 0;clip: rect(1px 1px 1px 1px);clip: rect(1px, 1px, 1px, 1px);height: 1px;margin: -1px;overflow: hidden;padding: 0;position: absolute;width: 1px;}#sk-container-id-4 div.sk-estimator {font-family: monospace;background-color: #f0f8ff;border: 1px dotted black;border-radius: 0.25em;box-sizing: border-box;margin-bottom: 0.5em;}#sk-container-id-4 div.sk-estimator:hover {background-color: #d4ebff;}#sk-container-id-4 div.sk-parallel-item::after {content: \"\";width: 100%;border-bottom: 1px solid gray;flex-grow: 1;}#sk-container-id-4 div.sk-label:hover label.sk-toggleable__label {background-color: #d4ebff;}#sk-container-id-4 div.sk-serial::before {content: \"\";position: absolute;border-left: 1px solid gray;box-sizing: border-box;top: 0;bottom: 0;left: 50%;z-index: 0;}#sk-container-id-4 div.sk-serial {display: flex;flex-direction: column;align-items: center;background-color: white;padding-right: 0.2em;padding-left: 0.2em;position: relative;}#sk-container-id-4 div.sk-item {position: relative;z-index: 1;}#sk-container-id-4 div.sk-parallel {display: flex;align-items: stretch;justify-content: center;background-color: white;position: relative;}#sk-container-id-4 div.sk-item::before, #sk-container-id-4 div.sk-parallel-item::before {content: \"\";position: absolute;border-left: 1px solid gray;box-sizing: border-box;top: 0;bottom: 0;left: 50%;z-index: -1;}#sk-container-id-4 div.sk-parallel-item {display: flex;flex-direction: column;z-index: 1;position: relative;background-color: white;}#sk-container-id-4 div.sk-parallel-item:first-child::after {align-self: flex-end;width: 50%;}#sk-container-id-4 div.sk-parallel-item:last-child::after {align-self: flex-start;width: 50%;}#sk-container-id-4 div.sk-parallel-item:only-child::after {width: 0;}#sk-container-id-4 div.sk-dashed-wrapped {border: 1px dashed gray;margin: 0 0.4em 0.5em 0.4em;box-sizing: border-box;padding-bottom: 0.4em;background-color: white;}#sk-container-id-4 div.sk-label label {font-family: monospace;font-weight: bold;display: inline-block;line-height: 1.2em;}#sk-container-id-4 div.sk-label-container {text-align: center;}#sk-container-id-4 div.sk-container {/* jupyter's `normalize.less` sets `[hidden] { display: none; }` but bootstrap.min.css set `[hidden] { display: none !important; }` so we also need the `!important` here to be able to override the default hidden behavior on the sphinx rendered scikit-learn.org. See: https://github.com/scikit-learn/scikit-learn/issues/21755 */display: inline-block !important;position: relative;}#sk-container-id-4 div.sk-text-repr-fallback {display: none;}</style><div id=\"sk-container-id-4\" class=\"sk-top-container\"><div class=\"sk-text-repr-fallback\"><pre>SVC(C=1, coef0=1, degree=10, kernel=&#x27;poly&#x27;)</pre><b>In a Jupyter environment, please rerun this cell to show the HTML representation or trust the notebook. <br />On GitHub, the HTML representation is unable to render, please try loading this page with nbviewer.org.</b></div><div class=\"sk-container\" hidden><div class=\"sk-item\"><div class=\"sk-estimator sk-toggleable\"><input class=\"sk-toggleable__control sk-hidden--visually\" id=\"sk-estimator-id-8\" type=\"checkbox\" checked><label for=\"sk-estimator-id-8\" class=\"sk-toggleable__label sk-toggleable__label-arrow\">SVC</label><div class=\"sk-toggleable__content\"><pre>SVC(C=1, coef0=1, degree=10, kernel=&#x27;poly&#x27;)</pre></div></div></div></div></div>"
      ],
      "text/plain": [
       "SVC(C=1, coef0=1, degree=10, kernel='poly')"
      ]
     },
     "execution_count": 22,
     "metadata": {},
     "output_type": "execute_result"
    }
   ],
   "source": [
    "grid_search_2.best_estimator_"
   ]
  },
  {
   "cell_type": "code",
   "execution_count": 23,
   "id": "daa1e284",
   "metadata": {},
   "outputs": [
    {
     "data": {
      "text/plain": [
       "0.9095177123346138"
      ]
     },
     "execution_count": 23,
     "metadata": {},
     "output_type": "execute_result"
    }
   ],
   "source": [
    "best_svm_clf_2 = SVC(kernel=\"poly\", degree=10, coef0=1, C=1)\n",
    "best_svm_clf_2.fit(X_train, y_train)\n",
    "best_svm_clf_2.score(X_test, y_test)"
   ]
  },
  {
   "cell_type": "code",
   "execution_count": 27,
   "id": "f4baba28",
   "metadata": {},
   "outputs": [
    {
     "data": {
      "text/plain": [
       "0.912932138284251"
      ]
     },
     "execution_count": 27,
     "metadata": {},
     "output_type": "execute_result"
    }
   ],
   "source": [
    "best_svm_clf_3 = SVC(kernel=\"poly\", degree=10, coef0=1, C=1)\n",
    "best_svm_clf_3.fit(std_X_train, std_y_train)\n",
    "best_svm_clf_3.score(std_X_test, std_y_test)"
   ]
  },
  {
   "cell_type": "code",
   "execution_count": 28,
   "id": "1fecc75a",
   "metadata": {},
   "outputs": [
    {
     "data": {
      "text/plain": [
       "0.7833973538198891"
      ]
     },
     "execution_count": 28,
     "metadata": {},
     "output_type": "execute_result"
    }
   ],
   "source": [
    "SVC(kernel=\"sigmoid\", gamma='auto', coef0=1, C=1).fit(std_X_train, std_y_train).score(std_X_test, std_y_test)"
   ]
  },
  {
   "cell_type": "code",
   "execution_count": null,
   "id": "c1833040",
   "metadata": {},
   "outputs": [],
   "source": []
  }
 ],
 "metadata": {
  "kernelspec": {
   "display_name": "Python 3 (ipykernel)",
   "language": "python",
   "name": "python3"
  },
  "language_info": {
   "codemirror_mode": {
    "name": "ipython",
    "version": 3
   },
   "file_extension": ".py",
   "mimetype": "text/x-python",
   "name": "python",
   "nbconvert_exporter": "python",
   "pygments_lexer": "ipython3",
   "version": "3.11.5"
  }
 },
 "nbformat": 4,
 "nbformat_minor": 5
}
